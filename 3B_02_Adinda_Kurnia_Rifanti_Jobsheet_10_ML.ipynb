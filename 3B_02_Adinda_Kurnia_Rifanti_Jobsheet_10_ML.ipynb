{
  "cells": [
    {
      "cell_type": "markdown",
      "metadata": {
        "id": "view-in-github",
        "colab_type": "text"
      },
      "source": [
        "<a href=\"https://colab.research.google.com/github/adindakkr/MachineLearning1/blob/main/3B_02_Adinda_Kurnia_Rifanti_Jobsheet_10_ML.ipynb\" target=\"_parent\"><img src=\"https://colab.research.google.com/assets/colab-badge.svg\" alt=\"Open In Colab\"/></a>"
      ]
    },
    {
      "cell_type": "markdown",
      "metadata": {
        "id": "I2Ye1fM_5I5K"
      },
      "source": [
        "Nama  : Adinda Kurnia Rifanti\n",
        "\n",
        "Kelas : D-IV TI 3B\n",
        "\n",
        "Absen : 02\n",
        "\n",
        "NIM   : 2141720100"
      ]
    },
    {
      "cell_type": "markdown",
      "source": [
        "Job Sheet 10 : Recurrent Neural Network (RNN)"
      ],
      "metadata": {
        "id": "ji5FtS6QZiEm"
      }
    },
    {
      "cell_type": "markdown",
      "metadata": {
        "id": "XNMbh2Xv5j2f"
      },
      "source": [
        "**Praktikum 1 : RNN untuk Analisis Sentimen**"
      ]
    },
    {
      "cell_type": "markdown",
      "metadata": {
        "id": "JbBruGwZ5qja"
      },
      "source": [
        "**SETUP**\n",
        "Impor matplotlib dan buat fungsi pembantu untuk memplot grafik:"
      ]
    },
    {
      "cell_type": "code",
      "execution_count": 2,
      "metadata": {
        "id": "raPy0n0C5gXm"
      },
      "outputs": [],
      "source": [
        "import numpy as np\n",
        "import tensorflow_datasets as tfds\n",
        "import tensorflow as tf\n",
        "\n",
        "tfds.disable_progress_bar()"
      ]
    },
    {
      "cell_type": "code",
      "execution_count": 3,
      "metadata": {
        "id": "H2yqpPFW5xA8"
      },
      "outputs": [],
      "source": [
        "import matplotlib.pyplot as plt\n",
        "\n",
        "def plot_graphs(history, metric):\n",
        "  plt.plot(history.history[metric])\n",
        "  plt.plot(history.history['val_'+metric], '')\n",
        "  plt.xlabel(\"Epochs\")\n",
        "  plt.ylabel(metric)\n",
        "  plt.legend([metric, 'val_'+metric])"
      ]
    },
    {
      "cell_type": "markdown",
      "metadata": {
        "id": "kerToHkE56Fh"
      },
      "source": [
        "Setup input pipeline"
      ]
    },
    {
      "cell_type": "markdown",
      "metadata": {
        "id": "prsyDVPd58N4"
      },
      "source": [
        "Dataset ulasan film IMDB adalah kumpulan data klasifikasi biner—semua ulasan memiliki sentimen positif atau negatif."
      ]
    },
    {
      "cell_type": "code",
      "execution_count": 4,
      "metadata": {
        "colab": {
          "base_uri": "https://localhost:8080/"
        },
        "id": "hDZ7oLq25-B2",
        "outputId": "7c5100f4-47ed-4924-c89f-d904eb83af21"
      },
      "outputs": [
        {
          "output_type": "stream",
          "name": "stdout",
          "text": [
            "Downloading and preparing dataset 80.23 MiB (download: 80.23 MiB, generated: Unknown size, total: 80.23 MiB) to /root/tensorflow_datasets/imdb_reviews/plain_text/1.0.0...\n",
            "Dataset imdb_reviews downloaded and prepared to /root/tensorflow_datasets/imdb_reviews/plain_text/1.0.0. Subsequent calls will reuse this data.\n"
          ]
        },
        {
          "output_type": "execute_result",
          "data": {
            "text/plain": [
              "(TensorSpec(shape=(), dtype=tf.string, name=None),\n",
              " TensorSpec(shape=(), dtype=tf.int64, name=None))"
            ]
          },
          "metadata": {},
          "execution_count": 4
        }
      ],
      "source": [
        "dataset, info = tfds.load('imdb_reviews', with_info=True,\n",
        "                          as_supervised=True)\n",
        "train_dataset, test_dataset = dataset['train'], dataset['test']\n",
        "\n",
        "train_dataset.element_spec"
      ]
    },
    {
      "cell_type": "markdown",
      "metadata": {
        "id": "-Eck8pdb6PFy"
      },
      "source": [
        "Awalnya ini mengembalikan dataset (teks, pasangan label):"
      ]
    },
    {
      "cell_type": "code",
      "execution_count": 5,
      "metadata": {
        "colab": {
          "base_uri": "https://localhost:8080/"
        },
        "id": "Ra1Mh6ui6RZe",
        "outputId": "2c7eda42-0ccc-4c83-cc65-05b3da817d7b"
      },
      "outputs": [
        {
          "output_type": "stream",
          "name": "stdout",
          "text": [
            "text:  b\"This was an absolutely terrible movie. Don't be lured in by Christopher Walken or Michael Ironside. Both are great actors, but this must simply be their worst role in history. Even their great acting could not redeem this movie's ridiculous storyline. This movie is an early nineties US propaganda piece. The most pathetic scenes were those when the Columbian rebels were making their cases for revolutions. Maria Conchita Alonso appeared phony, and her pseudo-love affair with Walken was nothing but a pathetic emotional plug in a movie that was devoid of any real meaning. I am disappointed that there are movies like this, ruining actor's like Christopher Walken's good name. I could barely sit through it.\"\n",
            "label:  0\n"
          ]
        }
      ],
      "source": [
        "for example, label in train_dataset.take(1):\n",
        "  print('text: ', example.numpy())\n",
        "  print('label: ', label.numpy())"
      ]
    },
    {
      "cell_type": "markdown",
      "metadata": {
        "id": "QekwbWO36WGZ"
      },
      "source": [
        "Berikutnya acak data untuk pelatihan dan membuat kumpulan pasangan (teks, label) ini:"
      ]
    },
    {
      "cell_type": "code",
      "execution_count": 6,
      "metadata": {
        "colab": {
          "base_uri": "https://localhost:8080/"
        },
        "id": "-H8aOtAB6ZIY",
        "outputId": "f4a547f5-8187-45d6-d6f1-872d4bbe5c50"
      },
      "outputs": [
        {
          "output_type": "stream",
          "name": "stdout",
          "text": [
            "texts:  [b\"If this series supposed to be an improvement over Batman - The Animated Series, I, for one, think it failed terribly. The character drawing is lousy... (Catwoman, for instance, looks awful...) But what really annoyed me is that it made Batman look like a sort of wimp who just can't take care of himself in a battle, without the help of two, even three sidekicks. I mean, he's Batman, for God's sake! I know the comic books, I know that Nightwing and Batgirl are supposed to be Batman's allies, besides Robin, but still... making Batman say that he needs help from them... What, he can't handle a few punches? In BTAS, he could face a dozen adversaries without any problem... He's getting old? Come on...<br /><br />And another thing: I really don't think that Batman would allow a kid like Tim Drake to go into battle that soon, without years of hard training. One, it's irresponsible (and Batman is everything, but irresponsible), and two, it's not what happened in the comics, if we are to remain faithful to them.<br /><br />Batman - The Animated Series made history, with its animation, its stories and its characters... That really was a legend of Batman. The New Adventures series turned the legend into just another Batman flick.\"\n",
            " b\"WWF Survivor Series 2001<br /><br />This was among the worst events of 2001. Perhaps its biggest flaw was the fact that it didn't follow suit to most of the previous Survivor Series'. There was only ONE survivor series match. And that Survivor Series match went on for 45 minutes. What's more, anyone with a working brain would know that it would end with The Rock versus Austin and The Rock prevailing for his team. And don't get me started on the preview before the event. No matter who won it was obvious that no one was going to f***ing die. There was no need for all of that pointless hype. Whatever the storyline, it was just a wrestling event.<br /><br />And as for the rest of the matches: the first match was Christian defending his European title against Al Snow. It was a good fast paced match and its good to see a heel winning a match fairly. William Regal versus Tajiri was boring and we've seen it 2 or 3 times before. Edge versus Test was good but nothing great. The tag titles steel cage match was the best match of the evening. The battle Royal went on for 10 minutes and no one really cared who'd win in the first place. The Women's title match wasn't great. No, not in the slightest. The main event must have been the most hypocritical match in history. The Alliance lost but guess what, after 5 months every single Alliance superstar returned. The match itself was poor. The Rock eliminated 3 of them and Jericho eliminated 2. The Rock was too caught up with his acting to be there when the invasion began. Jericho was the one that jeopardised the whole match. If I wanted any 2 to be eliminated in the early going it would be them. Everyone knew that Kane, Big Show and Undertaker were just fall guys. 7 matches isn't enough for a Survivor Series. If there's ever a Survivor Series as bad as this again I'll\"\n",
            " b\"Dennis Hopper and JT Walsh steal the show here. Cage and Boyle are fine, but what gives this neo-noir its juice is Hopper's creepy, violent character and JT Walsh's sneakiness.<br /><br />A drifter gets mistaken for a hit-man, and tries to make a little dough out of it, but gets in over his head.<br /><br />I found a strange parallel in the opening scene of this movie, when Cage walks into a trailer in Wyoming to get drilling work, with the help of his buddy...and the opening scene in Brokeback Mountain, when the character does the same thing! But that's another story.<br /><br />Dennis Hopper is at his best here...cocky, one-step-ahead villainous, seething and explosively violent. JT Walsh (RIP) is also great as the man with a dark past, trying to live legitimately (well, almost).<br /><br />There are only 4 real characters of note here, with the exception of the hard-working deputy in the town of Red Rock, Wyoming. The first twist hits early on, and from there it's a nice neo-noir adventure in some sleepy little town. Satisfying. 8 pts.\"]\n",
            "\n",
            "labels:  [0 0 1]\n"
          ]
        }
      ],
      "source": [
        "BUFFER_SIZE = 10000\n",
        "BATCH_SIZE = 64\n",
        "\n",
        "train_dataset = train_dataset.shuffle(BUFFER_SIZE).batch(BATCH_SIZE).prefetch(tf.data.AUTOTUNE)\n",
        "test_dataset = test_dataset.batch(BATCH_SIZE).prefetch(tf.data.AUTOTUNE)\n",
        "\n",
        "for example, label in train_dataset.take(1):\n",
        "  print('texts: ', example.numpy()[:3])\n",
        "  print()\n",
        "  print('labels: ', label.numpy()[:3])\n"
      ]
    },
    {
      "cell_type": "markdown",
      "metadata": {
        "id": "HBtybaRe6c_I"
      },
      "source": [
        "**Buat Teks Encoder**"
      ]
    },
    {
      "cell_type": "markdown",
      "metadata": {
        "id": "PnESUgAd6fNO"
      },
      "source": [
        "Teks mentah yang dimuat oleh tfds perlu diproses sebelum dapat digunakan dalam model. Cara termudah memproses teks untuk pelatihan adalah menggunakan lapisan TextVectorization. Lapisan ini memiliki banyak kemampuan, namun pada tutorial ini menggunakan perilaku default. Buat lapisan tersebut, dan teruskan teks kumpulan data ke metode .adapt lapisan:"
      ]
    },
    {
      "cell_type": "code",
      "execution_count": 7,
      "metadata": {
        "id": "YXLjLYh66haf"
      },
      "outputs": [],
      "source": [
        "VOCAB_SIZE = 1000\n",
        "encoder = tf.keras.layers.TextVectorization(\n",
        "    max_tokens=VOCAB_SIZE)\n",
        "encoder.adapt(train_dataset.map(lambda text, label: text))"
      ]
    },
    {
      "cell_type": "markdown",
      "metadata": {
        "id": "IsyBIe3e6vyh"
      },
      "source": [
        "Metode .adapt mengatur kosakata lapisan. 20 token pertama dapat dilihat dengan kode berikut. Setelah padding dan token yang tidak diketahui, mereka diurutkan berdasarkan frekuensi:"
      ]
    },
    {
      "cell_type": "code",
      "execution_count": 8,
      "metadata": {
        "colab": {
          "base_uri": "https://localhost:8080/"
        },
        "id": "TgiaHh8-6zqY",
        "outputId": "e78cee0f-804d-416a-cd7d-b9a2cfef4b0f"
      },
      "outputs": [
        {
          "output_type": "execute_result",
          "data": {
            "text/plain": [
              "array(['', '[UNK]', 'the', 'and', 'a', 'of', 'to', 'is', 'in', 'it', 'i',\n",
              "       'this', 'that', 'br', 'was', 'as', 'for', 'with', 'movie', 'but'],\n",
              "      dtype='<U14')"
            ]
          },
          "metadata": {},
          "execution_count": 8
        }
      ],
      "source": [
        "vocab=np.array(encoder.get_vocabulary())\n",
        "vocab[:20]"
      ]
    },
    {
      "cell_type": "markdown",
      "metadata": {
        "id": "2ddzy9SA670s"
      },
      "source": [
        "Setelah kosakata diatur, lapisan dapat mengkodekan teks ke dalam indeks. Tensor indeks diberi bantalan 0 ke urutan terpanjang dalam batch (kecuali jika Anda menetapkan output_sequence_length tetap):"
      ]
    },
    {
      "cell_type": "code",
      "execution_count": 9,
      "metadata": {
        "colab": {
          "base_uri": "https://localhost:8080/"
        },
        "id": "6IPYy0xo687V",
        "outputId": "8184ea1c-92ef-476b-f0e2-5bf51b8e070c"
      },
      "outputs": [
        {
          "output_type": "execute_result",
          "data": {
            "text/plain": [
              "array([[ 45,  11, 204, ...,   0,   0,   0],\n",
              "       [  1,   1, 204, ...,   0,   0,   0],\n",
              "       [  1,   1,   3, ...,   0,   0,   0]])"
            ]
          },
          "metadata": {},
          "execution_count": 9
        }
      ],
      "source": [
        "encoded_example=encoder(example)[:3].numpy()\n",
        "encoded_example"
      ]
    },
    {
      "cell_type": "markdown",
      "metadata": {
        "id": "B8RH7fV57CHi"
      },
      "source": [
        "Dengan pengaturan default, prosesnya tidak dapat dibalik sepenuhnya. Ada dua alasan utama untuk itu:\n",
        "-Nilai default untuk argumen standarisasi preprocessing.TextVectorization adalah \"lower_and_strip_punctuation\".\n",
        "-Ukuran kosa kata yang terbatas dan kurangnya fallback berbasis karakter menghasilkan beberapa token yang tidak diketahui."
      ]
    },
    {
      "cell_type": "code",
      "execution_count": 10,
      "metadata": {
        "colab": {
          "base_uri": "https://localhost:8080/"
        },
        "id": "qn0lsYjT7Gfc",
        "outputId": "4dc00fb4-69e5-4fe9-8dd4-2a2884296721"
      },
      "outputs": [
        {
          "output_type": "stream",
          "name": "stdout",
          "text": [
            "Original:  b\"If this series supposed to be an improvement over Batman - The Animated Series, I, for one, think it failed terribly. The character drawing is lousy... (Catwoman, for instance, looks awful...) But what really annoyed me is that it made Batman look like a sort of wimp who just can't take care of himself in a battle, without the help of two, even three sidekicks. I mean, he's Batman, for God's sake! I know the comic books, I know that Nightwing and Batgirl are supposed to be Batman's allies, besides Robin, but still... making Batman say that he needs help from them... What, he can't handle a few punches? In BTAS, he could face a dozen adversaries without any problem... He's getting old? Come on...<br /><br />And another thing: I really don't think that Batman would allow a kid like Tim Drake to go into battle that soon, without years of hard training. One, it's irresponsible (and Batman is everything, but irresponsible), and two, it's not what happened in the comics, if we are to remain faithful to them.<br /><br />Batman - The Animated Series made history, with its animation, its stories and its characters... That really was a legend of Batman. The New Adventures series turned the legend into just another Batman flick.\"\n",
            "Round-trip:  if this series supposed to be an [UNK] over [UNK] the [UNK] series i for one think it [UNK] [UNK] the character [UNK] is [UNK] [UNK] for [UNK] looks awful but what really [UNK] me is that it made [UNK] look like a sort of [UNK] who just cant take care of himself in a battle without the help of two even three [UNK] i mean hes [UNK] for [UNK] [UNK] i know the comic [UNK] i know that [UNK] and [UNK] are supposed to be [UNK] [UNK] [UNK] [UNK] but still making [UNK] say that he needs help from them what he cant [UNK] a few [UNK] in [UNK] he could face a [UNK] [UNK] without any problem hes getting old come [UNK] br and another thing i really dont think that [UNK] would [UNK] a kid like [UNK] [UNK] to go into battle that soon without years of hard [UNK] one its [UNK] and [UNK] is everything but [UNK] and two its not what happened in the [UNK] if we are to [UNK] [UNK] to [UNK] br [UNK] the [UNK] series made history with its animation its stories and its characters that really was a [UNK] of [UNK] the new [UNK] series turned the [UNK] into just another [UNK] flick                                                                                                                                                                                                                                                                                                                                                                                                                                                                                                                                                                                                                          \n",
            "\n",
            "Original:  b\"WWF Survivor Series 2001<br /><br />This was among the worst events of 2001. Perhaps its biggest flaw was the fact that it didn't follow suit to most of the previous Survivor Series'. There was only ONE survivor series match. And that Survivor Series match went on for 45 minutes. What's more, anyone with a working brain would know that it would end with The Rock versus Austin and The Rock prevailing for his team. And don't get me started on the preview before the event. No matter who won it was obvious that no one was going to f***ing die. There was no need for all of that pointless hype. Whatever the storyline, it was just a wrestling event.<br /><br />And as for the rest of the matches: the first match was Christian defending his European title against Al Snow. It was a good fast paced match and its good to see a heel winning a match fairly. William Regal versus Tajiri was boring and we've seen it 2 or 3 times before. Edge versus Test was good but nothing great. The tag titles steel cage match was the best match of the evening. The battle Royal went on for 10 minutes and no one really cared who'd win in the first place. The Women's title match wasn't great. No, not in the slightest. The main event must have been the most hypocritical match in history. The Alliance lost but guess what, after 5 months every single Alliance superstar returned. The match itself was poor. The Rock eliminated 3 of them and Jericho eliminated 2. The Rock was too caught up with his acting to be there when the invasion began. Jericho was the one that jeopardised the whole match. If I wanted any 2 to be eliminated in the early going it would be them. Everyone knew that Kane, Big Show and Undertaker were just fall guys. 7 matches isn't enough for a Survivor Series. If there's ever a Survivor Series as bad as this again I'll\"\n",
            "Round-trip:  [UNK] [UNK] series [UNK] br this was among the worst events of [UNK] perhaps its [UNK] [UNK] was the fact that it didnt follow [UNK] to most of the previous [UNK] series there was only one [UNK] series [UNK] and that [UNK] series [UNK] went on for [UNK] minutes whats more anyone with a working [UNK] would know that it would end with the rock [UNK] [UNK] and the rock [UNK] for his team and dont get me started on the [UNK] before the [UNK] no matter who [UNK] it was obvious that no one was going to [UNK] die there was no need for all of that [UNK] [UNK] whatever the storyline it was just a [UNK] [UNK] br and as for the rest of the [UNK] the first [UNK] was [UNK] [UNK] his [UNK] title against [UNK] [UNK] it was a good fast [UNK] [UNK] and its good to see a [UNK] [UNK] a [UNK] fairly [UNK] [UNK] [UNK] [UNK] was boring and [UNK] seen it 2 or 3 times before [UNK] [UNK] [UNK] was good but nothing great the [UNK] [UNK] [UNK] [UNK] [UNK] was the best [UNK] of the [UNK] the battle [UNK] went on for 10 minutes and no one really [UNK] [UNK] [UNK] in the first place the [UNK] title [UNK] wasnt great no not in the [UNK] the main [UNK] must have been the most [UNK] [UNK] in history the [UNK] lost but guess what after 5 [UNK] every single [UNK] [UNK] [UNK] the [UNK] itself was poor the rock [UNK] 3 of them and [UNK] [UNK] 2 the rock was too [UNK] up with his acting to be there when the [UNK] [UNK] [UNK] was the one that [UNK] the whole [UNK] if i wanted any 2 to be [UNK] in the early going it would be them everyone knew that [UNK] big show and [UNK] were just fall guys [UNK] [UNK] isnt enough for a [UNK] series if theres ever a [UNK] series as bad as this again ill                                                                                                                                                                                                                                                                                                                                                                                                                                                                                            \n",
            "\n",
            "Original:  b\"Dennis Hopper and JT Walsh steal the show here. Cage and Boyle are fine, but what gives this neo-noir its juice is Hopper's creepy, violent character and JT Walsh's sneakiness.<br /><br />A drifter gets mistaken for a hit-man, and tries to make a little dough out of it, but gets in over his head.<br /><br />I found a strange parallel in the opening scene of this movie, when Cage walks into a trailer in Wyoming to get drilling work, with the help of his buddy...and the opening scene in Brokeback Mountain, when the character does the same thing! But that's another story.<br /><br />Dennis Hopper is at his best here...cocky, one-step-ahead villainous, seething and explosively violent. JT Walsh (RIP) is also great as the man with a dark past, trying to live legitimately (well, almost).<br /><br />There are only 4 real characters of note here, with the exception of the hard-working deputy in the town of Red Rock, Wyoming. The first twist hits early on, and from there it's a nice neo-noir adventure in some sleepy little town. Satisfying. 8 pts.\"\n",
            "Round-trip:  [UNK] [UNK] and [UNK] [UNK] [UNK] the show here [UNK] and [UNK] are fine but what gives this [UNK] its [UNK] is [UNK] creepy [UNK] character and [UNK] [UNK] [UNK] br a [UNK] gets [UNK] for a [UNK] and tries to make a little [UNK] out of it but gets in over his [UNK] br i found a strange [UNK] in the opening scene of this movie when [UNK] [UNK] into a [UNK] in [UNK] to get [UNK] work with the help of his [UNK] the opening scene in [UNK] [UNK] when the character does the same thing but thats another [UNK] br [UNK] [UNK] is at his best [UNK] [UNK] [UNK] [UNK] and [UNK] [UNK] [UNK] [UNK] [UNK] is also great as the man with a dark past trying to live [UNK] well [UNK] br there are only 4 real characters of note here with the [UNK] of the [UNK] [UNK] in the town of red rock [UNK] the first twist [UNK] early on and from there its a nice [UNK] [UNK] in some [UNK] little town [UNK] [UNK] [UNK]                                                                                                                                                                                                                                                                                                                                                                                                                                                                                                                                                                                                                                                         \n",
            "\n"
          ]
        }
      ],
      "source": [
        "for n in range(3):\n",
        "  print(\"Original: \", example[n].numpy())\n",
        "  print(\"Round-trip: \", \" \".join(vocab[encoded_example[n]]))\n",
        "  print()"
      ]
    },
    {
      "cell_type": "markdown",
      "metadata": {
        "id": "mKFgIwB07Kbu"
      },
      "source": [
        "**Buat Model**"
      ]
    },
    {
      "cell_type": "markdown",
      "metadata": {
        "id": "cMW2aL_B7M3Q"
      },
      "source": [
        "![image.png](data:image/png;base64,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)\n",
        "diagram model dapat dilihat pada gambar diatas\n",
        "1. Model ini dapat dibuat sebagai tf.keras.Sequential.\n",
        "\n",
        "2. Lapisan pertama adalah encoder, yang mengubah teks menjadi urutan indeks token.\n",
        "\n",
        "3. Setelah encoder adalah lapisan penyematan (embedding layer). Lapisan penyematan menyimpan satu vektor per kata. Saat dipanggil, ini mengubah rangkaian indeks kata menjadi rangkaian vektor. Vektor-vektor ini dapat dilatih. Setelah pelatihan (dengan data yang cukup), kata-kata dengan arti yang mirip sering kali memiliki vektor yang serupa. Pencarian indeks ini jauh lebih efisien daripada operasi setara dengan meneruskan vektor yang disandikan one-hot melalui lapisan tf.keras.layers.Dense.\n",
        "\n",
        "4. Jaringan saraf berulang (RNN) memproses masukan urutan dengan melakukan iterasi melalui elemen. RNN meneruskan keluaran dari satu langkah waktu ke masukannya pada langkah waktu berikutnya.\n",
        "Pembungkus tf.keras.layers.Bidirection juga dapat digunakan dengan lapisan RNN. Ini menyebarkan masukan maju dan mundur melalui lapisan RNN dan kemudian menggabungkan keluaran akhir.\n",
        "-Keuntungan utama RNN dua arah adalah sinyal dari awal masukan tidak perlu diproses sepanjang waktu untuk memengaruhi keluaran.\n",
        "-Kerugian utama dari RNN dua arah adalah Anda tidak dapat melakukan streaming prediksi secara efisien saat kata-kata ditambahkan di akhir.\n",
        "5. Setelah RNN mengonversi urutan menjadi satu vektor, kedua lapisan tersebut.Dense melakukan beberapa pemrosesan akhir, dan mengonversi representasi vektor ini menjadi logit tunggal sebagai keluaran klasifikasi."
      ]
    },
    {
      "cell_type": "markdown",
      "metadata": {
        "id": "I5dJjqcw7jKU"
      },
      "source": [
        "Kode nya adalah sebagai berikut :"
      ]
    },
    {
      "cell_type": "code",
      "execution_count": 11,
      "metadata": {
        "id": "IR_6_ysQ7kRk"
      },
      "outputs": [],
      "source": [
        "model = tf.keras.Sequential([\n",
        "    encoder,\n",
        "    tf.keras.layers.Embedding(\n",
        "        input_dim=len(encoder.get_vocabulary()),\n",
        "        output_dim=64,\n",
        "        # Use masking to handle the variable sequence lengths\n",
        "        mask_zero=True),\n",
        "    tf.keras.layers.Bidirectional(tf.keras.layers.LSTM(64)),\n",
        "    tf.keras.layers.Dense(64, activation='relu'),\n",
        "    tf.keras.layers.Dense(1)\n",
        "])"
      ]
    },
    {
      "cell_type": "markdown",
      "metadata": {
        "id": "cI8dYs1t7nLq"
      },
      "source": [
        "Harap dicatat bahwa model sekuensial Keras digunakan di sini karena semua lapisan dalam model hanya memiliki masukan tunggal dan menghasilkan keluaran tunggal. Jika Anda ingin menggunakan lapisan RNN stateful, Anda mungkin ingin membangun model Anda dengan API fungsional Keras atau subkelas model sehingga Anda dapat mengambil dan menggunakan kembali status lapisan RNN. Untuk detailnya bisa dilihat pada Keras RNN guide\n",
        "Lapisan penyematan menggunakan masking (uses masking ) untuk menangani panjang urutan yang bervariasi. Semua lapisan setelah penyematan dukungan penyematan"
      ]
    },
    {
      "cell_type": "code",
      "execution_count": 12,
      "metadata": {
        "colab": {
          "base_uri": "https://localhost:8080/"
        },
        "id": "q3pr7qT_7oNQ",
        "outputId": "dfb7414d-51d9-4052-bffc-c375c84a2016"
      },
      "outputs": [
        {
          "output_type": "stream",
          "name": "stdout",
          "text": [
            "[False, True, True, True, True]\n"
          ]
        }
      ],
      "source": [
        "print([layer.supports_masking for layer in model.layers])"
      ]
    },
    {
      "cell_type": "markdown",
      "metadata": {
        "id": "X1pk9iZd7ug9"
      },
      "source": [
        "Untuk memastikan bahwa ini berfungsi seperti yang diharapkan, evaluasi sebuah kalimat dua kali. Pertama, satu kalimat sehingga tidak ada bantalan (padding) untuk disamarkan:"
      ]
    },
    {
      "cell_type": "code",
      "execution_count": 13,
      "metadata": {
        "colab": {
          "base_uri": "https://localhost:8080/"
        },
        "id": "brwXwi0_7wD-",
        "outputId": "bdb9d863-c140-49fe-bcd2-d0a9f33bb907"
      },
      "outputs": [
        {
          "output_type": "stream",
          "name": "stdout",
          "text": [
            "1/1 [==============================] - 7s 7s/step\n",
            "[-0.00750472]\n"
          ]
        }
      ],
      "source": [
        "# predict on a sample text without padding.\n",
        "\n",
        "sample_text = ('The movie was cool. The animation and the graphics '\n",
        "               'were out of this world. I would recommend this movie.')\n",
        "predictions = model.predict(np.array([sample_text]))\n",
        "print(predictions[0])"
      ]
    },
    {
      "cell_type": "markdown",
      "metadata": {
        "id": "gx7CZ15R7z-J"
      },
      "source": [
        "Sekarang, evaluasi lagi dalam batch dengan kalimat yang lebih panjang. Hasilnya harus sama:"
      ]
    },
    {
      "cell_type": "code",
      "execution_count": 14,
      "metadata": {
        "colab": {
          "base_uri": "https://localhost:8080/"
        },
        "id": "nrzZu6Ck71nK",
        "outputId": "727f8e8c-976b-4bd0-d3d5-c6f84f2e739b"
      },
      "outputs": [
        {
          "output_type": "stream",
          "name": "stdout",
          "text": [
            "1/1 [==============================] - 0s 64ms/step\n",
            "[-0.00750472]\n"
          ]
        }
      ],
      "source": [
        "# predict on a sample text with padding\n",
        "\n",
        "padding = \"the \" * 2000\n",
        "predictions = model.predict(np.array([sample_text, padding]))\n",
        "print(predictions[0])"
      ]
    },
    {
      "cell_type": "markdown",
      "metadata": {
        "id": "Q9-TDpso74U1"
      },
      "source": [
        "compile model Keras untuk mengonfigurasi proses pelatihan:"
      ]
    },
    {
      "cell_type": "code",
      "execution_count": 15,
      "metadata": {
        "id": "GiaYGmcr75lG"
      },
      "outputs": [],
      "source": [
        "model.compile(loss=tf.keras.losses.BinaryCrossentropy(from_logits=True),\n",
        "              optimizer=tf.keras.optimizers.Adam(1e-4),\n",
        "              metrics=['accuracy'])"
      ]
    },
    {
      "cell_type": "markdown",
      "metadata": {
        "id": "y6rD_30y78UU"
      },
      "source": [
        "**Train Model**"
      ]
    },
    {
      "cell_type": "code",
      "execution_count": 16,
      "metadata": {
        "colab": {
          "base_uri": "https://localhost:8080/"
        },
        "id": "iwCdoSUJ79Y4",
        "outputId": "bb891fd5-2e9e-45a2-f147-d48d39cea059"
      },
      "outputs": [
        {
          "output_type": "stream",
          "name": "stdout",
          "text": [
            "Epoch 1/10\n",
            "391/391 [==============================] - 56s 116ms/step - loss: 0.6457 - accuracy: 0.5563 - val_loss: 0.4753 - val_accuracy: 0.7458\n",
            "Epoch 2/10\n",
            "391/391 [==============================] - 27s 68ms/step - loss: 0.3893 - accuracy: 0.8185 - val_loss: 0.3633 - val_accuracy: 0.8349\n",
            "Epoch 3/10\n",
            "391/391 [==============================] - 28s 71ms/step - loss: 0.3352 - accuracy: 0.8516 - val_loss: 0.3329 - val_accuracy: 0.8583\n",
            "Epoch 4/10\n",
            "391/391 [==============================] - 27s 68ms/step - loss: 0.3193 - accuracy: 0.8598 - val_loss: 0.3268 - val_accuracy: 0.8562\n",
            "Epoch 5/10\n",
            "391/391 [==============================] - 26s 67ms/step - loss: 0.3103 - accuracy: 0.8660 - val_loss: 0.3419 - val_accuracy: 0.8427\n",
            "Epoch 6/10\n",
            "391/391 [==============================] - 26s 66ms/step - loss: 0.3058 - accuracy: 0.8669 - val_loss: 0.3259 - val_accuracy: 0.8568\n",
            "Epoch 7/10\n",
            "391/391 [==============================] - 26s 65ms/step - loss: 0.3012 - accuracy: 0.8709 - val_loss: 0.3233 - val_accuracy: 0.8505\n",
            "Epoch 8/10\n",
            "391/391 [==============================] - 26s 67ms/step - loss: 0.3014 - accuracy: 0.8691 - val_loss: 0.3190 - val_accuracy: 0.8500\n",
            "Epoch 9/10\n",
            "391/391 [==============================] - 27s 68ms/step - loss: 0.2983 - accuracy: 0.8723 - val_loss: 0.3183 - val_accuracy: 0.8589\n",
            "Epoch 10/10\n",
            "391/391 [==============================] - 30s 77ms/step - loss: 0.2940 - accuracy: 0.8722 - val_loss: 0.3228 - val_accuracy: 0.8583\n"
          ]
        }
      ],
      "source": [
        "history = model.fit(train_dataset, epochs=10,\n",
        "                  validation_data=test_dataset,\n",
        "                  validation_steps=30)"
      ]
    },
    {
      "cell_type": "code",
      "execution_count": 17,
      "metadata": {
        "colab": {
          "base_uri": "https://localhost:8080/"
        },
        "id": "BjKcmlBiWOaN",
        "outputId": "d8ae12cd-cb2f-41ee-fa42-24b5e6d9dbed"
      },
      "outputs": [
        {
          "output_type": "stream",
          "name": "stdout",
          "text": [
            "391/391 [==============================] - 12s 31ms/step - loss: 0.3180 - accuracy: 0.8637\n",
            "Test Loss: 0.3179752230644226\n",
            "Test Accuracy: 0.8636800050735474\n"
          ]
        }
      ],
      "source": [
        "test_loss, test_acc = model.evaluate(test_dataset)\n",
        "\n",
        "print('Test Loss:', test_loss)\n",
        "print('Test Accuracy:', test_acc)"
      ]
    },
    {
      "cell_type": "code",
      "execution_count": 18,
      "metadata": {
        "colab": {
          "base_uri": "https://localhost:8080/",
          "height": 718
        },
        "id": "J5yhOLBTXLzL",
        "outputId": "40b13dbc-36ff-46ee-adcf-58d7da8493a9"
      },
      "outputs": [
        {
          "output_type": "execute_result",
          "data": {
            "text/plain": [
              "(0.0, 0.6633073315024376)"
            ]
          },
          "metadata": {},
          "execution_count": 18
        },
        {
          "output_type": "display_data",
          "data": {
            "text/plain": [
              "<Figure size 1600x800 with 2 Axes>"
            ],
            "image/png": "[encoded data removed]"
          },
          "metadata": {}
        }
      ],
      "source": [
        "plt.figure(figsize=(16, 8))\n",
        "plt.subplot(1, 2, 1)\n",
        "plot_graphs(history, 'accuracy')\n",
        "plt.ylim(None, 1)\n",
        "plt.subplot(1, 2, 2)\n",
        "plot_graphs(history, 'loss')\n",
        "plt.ylim(0, None)"
      ]
    },
    {
      "cell_type": "markdown",
      "metadata": {
        "id": "X-wtCabaXP9f"
      },
      "source": [
        "Jalankan prediksi pada kalimat baru:"
      ]
    },
    {
      "cell_type": "markdown",
      "metadata": {
        "id": "fGTz_kgFXR5V"
      },
      "source": [
        "Jika prediksi >= 0,0 berarti positif, jika tidak maka negatif."
      ]
    },
    {
      "cell_type": "code",
      "execution_count": 19,
      "metadata": {
        "colab": {
          "base_uri": "https://localhost:8080/"
        },
        "id": "MDGkZgx0XS_L",
        "outputId": "4cf58c98-a665-4673-85ae-e4526867aea4"
      },
      "outputs": [
        {
          "output_type": "stream",
          "name": "stdout",
          "text": [
            "1/1 [==============================] - 3s 3s/step\n"
          ]
        }
      ],
      "source": [
        "sample_text = ('The movie was cool. The animation and the graphics '\n",
        "                'were out of this world. I would recommend this movie.')\n",
        "predictions = model.predict(np.array([sample_text]))"
      ]
    },
    {
      "cell_type": "markdown",
      "metadata": {
        "id": "-a0IR5toXhXH"
      },
      "source": [
        "Stack two or more LSTM layers"
      ]
    },
    {
      "cell_type": "markdown",
      "metadata": {
        "id": "FxwmX2c_Xiya"
      },
      "source": [
        "Lapisan berulang Keras memiliki dua mode yang tersedia yang dikontrol oleh argumen konstruktor return_sequences :\n",
        "\n",
        "Jika False, ia hanya mengembalikan keluaran terakhir untuk setiap urutan masukan (bentuk tensor 2D (batch_size, output_features)). Ini adalah default yang digunakan pada model sebelumnya.\n",
        "Jika True, Sequence lengkap output berturut-turut untuk setiap langkah waktu dikembalikan (bentuk tensor 3D (ukuran_batch, langkah waktu, fitur_output)).\n",
        "\n",
        "Berikut adalah alur informasi dengan return_sequences=True:"
      ]
    },
    {
      "cell_type": "markdown",
      "metadata": {
        "id": "BHwUKXRZXnIN"
      },
      "source": [
        "Hal yang menarik dari penggunaan RNN dengan return_sequences=True adalah outputnya masih memiliki 3 axis, sama seperti inputnya, sehingga bisa diteruskan ke layer RNN lain, seperti ini:"
      ]
    },
    {
      "cell_type": "code",
      "execution_count": 20,
      "metadata": {
        "id": "MEQyQlLJXn_N"
      },
      "outputs": [],
      "source": [
        "model = tf.keras.Sequential([\n",
        "  encoder,\n",
        "  tf.keras.layers.Embedding(len(encoder.get_vocabulary()),\n",
        "64, mask_zero=True),\n",
        "  tf.keras.layers.Bidirectional(tf.keras.layers.LSTM(64,\n",
        "return_sequences=True)),\n",
        "  tf.keras.layers.Bidirectional(tf.keras.layers.LSTM(32)),\n",
        "  tf.keras.layers.Dense(64, activation='relu'),\n",
        "  tf.keras.layers.Dropout(0.5),\n",
        "  tf.keras.layers.Dense(1)\n",
        "])"
      ]
    },
    {
      "cell_type": "code",
      "execution_count": 21,
      "metadata": {
        "id": "RphNI1naagti"
      },
      "outputs": [],
      "source": [
        "model.compile(loss=tf.keras.losses.BinaryCrossentropy(from_logits=True),\n",
        "              optimizer=tf.keras.optimizers.Adam(1e-4),\n",
        "              metrics=['accuracy'])"
      ]
    },
    {
      "cell_type": "code",
      "execution_count": 22,
      "metadata": {
        "colab": {
          "base_uri": "https://localhost:8080/"
        },
        "id": "IH2UhXYcan37",
        "outputId": "eb5330d5-b4be-45af-836b-0e008934c8ae"
      },
      "outputs": [
        {
          "output_type": "stream",
          "name": "stdout",
          "text": [
            "Epoch 1/10\n",
            "391/391 [==============================] - 83s 160ms/step - loss: 0.6211 - accuracy: 0.5888 - val_loss: 0.4215 - val_accuracy: 0.8016\n",
            "Epoch 2/10\n",
            "391/391 [==============================] - 49s 125ms/step - loss: 0.3804 - accuracy: 0.8323 - val_loss: 0.3519 - val_accuracy: 0.8339\n",
            "Epoch 3/10\n",
            "391/391 [==============================] - 50s 127ms/step - loss: 0.3340 - accuracy: 0.8554 - val_loss: 0.3500 - val_accuracy: 0.8490\n",
            "Epoch 4/10\n",
            "391/391 [==============================] - 48s 122ms/step - loss: 0.3192 - accuracy: 0.8644 - val_loss: 0.3289 - val_accuracy: 0.8453\n",
            "Epoch 5/10\n",
            "391/391 [==============================] - 48s 122ms/step - loss: 0.3111 - accuracy: 0.8687 - val_loss: 0.3266 - val_accuracy: 0.8500\n",
            "Epoch 6/10\n",
            "391/391 [==============================] - 49s 126ms/step - loss: 0.3096 - accuracy: 0.8699 - val_loss: 0.3254 - val_accuracy: 0.8536\n",
            "Epoch 7/10\n",
            "391/391 [==============================] - 51s 130ms/step - loss: 0.3009 - accuracy: 0.8717 - val_loss: 0.3252 - val_accuracy: 0.8625\n",
            "Epoch 8/10\n",
            "391/391 [==============================] - 55s 140ms/step - loss: 0.2980 - accuracy: 0.8734 - val_loss: 0.3259 - val_accuracy: 0.8495\n",
            "Epoch 9/10\n",
            "391/391 [==============================] - 50s 128ms/step - loss: 0.2981 - accuracy: 0.8726 - val_loss: 0.3213 - val_accuracy: 0.8500\n",
            "Epoch 10/10\n",
            "391/391 [==============================] - 51s 130ms/step - loss: 0.2944 - accuracy: 0.8746 - val_loss: 0.3232 - val_accuracy: 0.8646\n"
          ]
        }
      ],
      "source": [
        "history = model.fit(train_dataset, epochs=10,\n",
        "                    validation_data=test_dataset,\n",
        "                    validation_steps=30)"
      ]
    },
    {
      "cell_type": "code",
      "execution_count": 23,
      "metadata": {
        "colab": {
          "base_uri": "https://localhost:8080/"
        },
        "id": "fxe0CNalvFQp",
        "outputId": "b2c83962-e6fc-41f0-9e61-ca09e44671b1"
      },
      "outputs": [
        {
          "output_type": "stream",
          "name": "stdout",
          "text": [
            "391/391 [==============================] - 22s 56ms/step - loss: 0.3237 - accuracy: 0.8624\n",
            "Test Loss: 0.3237307071685791\n",
            "Test Accuracy: 0.8623999953269958\n"
          ]
        }
      ],
      "source": [
        "test_loss, test_acc = model.evaluate(test_dataset)\n",
        "\n",
        "print('Test Loss:', test_loss)\n",
        "print('Test Accuracy:', test_acc)"
      ]
    },
    {
      "cell_type": "code",
      "execution_count": 24,
      "metadata": {
        "colab": {
          "base_uri": "https://localhost:8080/"
        },
        "id": "Ots6waGFwm86",
        "outputId": "9d7af283-5d45-44e1-993c-dd7c07044d04"
      },
      "outputs": [
        {
          "output_type": "stream",
          "name": "stdout",
          "text": [
            "1/1 [==============================] - 7s 7s/step\n",
            "[[-1.7174664]]\n"
          ]
        }
      ],
      "source": [
        "# predict on a sample text without padding.\n",
        "\n",
        "sample_text = ('The movie was not good. The animation and the graphics '\n",
        "              'were terrible. I would not recommend this movie.')\n",
        "predictions = model.predict(np.array([sample_text]))\n",
        "print(predictions)"
      ]
    },
    {
      "cell_type": "code",
      "execution_count": 25,
      "metadata": {
        "colab": {
          "base_uri": "https://localhost:8080/",
          "height": 542
        },
        "id": "Q-aSFWWBwx6N",
        "outputId": "eb1d6ac1-a749-4adb-af3f-4b22a0be2e04"
      },
      "outputs": [
        {
          "output_type": "display_data",
          "data": {
            "text/plain": [
              "<Figure size 1600x600 with 2 Axes>"
            ],
            "image/png": "[encoded data removed]"
          },
          "metadata": {}
        }
      ],
      "source": [
        "plt.figure(figsize=(16, 6))\n",
        "plt.subplot(1, 2, 1)\n",
        "plot_graphs(history, 'accuracy')\n",
        "plt.subplot(1, 2, 2)\n",
        "plot_graphs(history, 'loss')"
      ]
    },
    {
      "cell_type": "markdown",
      "metadata": {
        "id": "7jAyGhyASYxR"
      },
      "source": [
        "Praktikum 2"
      ]
    },
    {
      "cell_type": "markdown",
      "metadata": {
        "id": "FP6xNo-5Sa7j"
      },
      "source": [
        "Generator Teks dengan RNN"
      ]
    },
    {
      "cell_type": "markdown",
      "metadata": {
        "id": "H2mUcfxNSdry"
      },
      "source": [
        "Praktikum ini mendemonstrasikan cara melakukan genearsi text menggunakan RNN. Dataset yang digunkan adalah dataset Shakespeare's writing from Andrej Karpathy's The Unreasonable Effectiveness of Recurrent Neural Networks. Jika diberikan urutan karakter dari data ini (\"Shakespear\"), latih model untuk memprediksi karakter berikutnya dalam urutan (\"e\"). Urutan teks yang lebih panjang dapat dihasilkan dengan memanggil model berulang kali.\n",
        "Note: Enable GPU acceleration to execute this notebook faster. In Colab: Runtime > Change runtime type > Hardware accelerator > GPU.\n",
        "Tutorial ini menggunakan tf.keras dan eager execution. Berikut adalah contoh output ketika model dalam tutorial ini dilatih selama 30 epoch, dan dimulai dengan prompt \"Q\":"
      ]
    },
    {
      "cell_type": "markdown",
      "metadata": {
        "id": "luFRSvdbSioZ"
      },
      "source": [
        "QUEENE:\n",
        "I had thought thou hadst a Roman; for the oracle,\n",
        "Thus by All bids the man against the word,\n",
        "Which are so weak of care, by old care done;\n",
        "Your children were in your holy love,\n",
        "And the precipitation through the bleeding throne.\n",
        "\n",
        "BISHOP OF ELY:\n",
        "Marry, and will, my lord, to weep in such a one were prettiest;\n",
        "Yet now I was adopted heir\n",
        "Of the world's lamentable day,\n",
        "To watch the next way with his father with his face?\n",
        "\n",
        "ESCALUS:\n",
        "The cause why then we are all resolved more sons.\n",
        "\n",
        "VOLUMNIA:\n",
        "O, no, no, no, no, no, no, no, no, no, no, no, no, no, no, no, no, no, no, no, no, it is no sin it should be dead,\n",
        "And love and pale as any will to that word.\n",
        "\n",
        "QUEEN ELIZABETH:\n",
        "But how long have I heard the soul for this world,\n",
        "And show his hands of life be proved to stand.\n",
        "\n",
        "PETRUCHIO:\n",
        "I say he look'd on, if I must be content\n",
        "To stay him from the fatal of our country's bliss.\n",
        "His lordship pluck'd from this sentence then for prey,\n",
        "And then let us twain, being the moon,\n",
        "were she such a case as fills m"
      ]
    },
    {
      "cell_type": "markdown",
      "metadata": {
        "id": "DTzNAzKpSnbd"
      },
      "source": [
        "Meskipun beberapa kalimat memiliki tata bahasa, sebagian besar tidak masuk akal. Model belum mempelajari arti kata-kata, namun anggap saja:\n",
        "-Modelnya berbasis karakter. Saat pelatihan dimulai, model tidak mengetahui cara mengeja kata dalam bahasa Inggris, atau bahkan kata-kata tersebut merupakan satuan teks.\n",
        "-Struktur keluarannya menyerupai sandiwara—blok teks umumnya dimulai dengan nama pembicara, dengan huruf kapital semua mirip dengan kumpulan data.\n",
        "-Seperti yang ditunjukkan di bawah, model dilatih pada kumpulan teks kecil (masing-masing 100 karakter), dan masih mampu menghasilkan rangkaian teks yang lebih panjang dengan struktur yang koheren."
      ]
    },
    {
      "cell_type": "markdown",
      "metadata": {
        "id": "3FtRbmYkSpmA"
      },
      "source": [
        "Setup"
      ]
    },
    {
      "cell_type": "markdown",
      "metadata": {
        "id": "W95anbObSp5V"
      },
      "source": [
        "Import TensorFlow"
      ]
    },
    {
      "cell_type": "code",
      "execution_count": 26,
      "metadata": {
        "id": "gFrgp_CqSx8y"
      },
      "outputs": [],
      "source": [
        "import tensorflow as tf\n",
        "import numpy as np\n",
        "import os\n",
        "import time"
      ]
    },
    {
      "cell_type": "markdown",
      "metadata": {
        "id": "fRxVjCvUS4yO"
      },
      "source": [
        "Download Dataset Shakespeare"
      ]
    },
    {
      "cell_type": "markdown",
      "metadata": {
        "id": "DqmJ9OxPS6L5"
      },
      "source": [
        "Sesuaikan dengan lokasi data yang Anda punya."
      ]
    },
    {
      "cell_type": "code",
      "execution_count": 27,
      "metadata": {
        "colab": {
          "base_uri": "https://localhost:8080/"
        },
        "id": "cFmC_CS0S8py",
        "outputId": "3c4e7555-c7ba-47dc-8278-7c1c3ea46110"
      },
      "outputs": [
        {
          "output_type": "stream",
          "name": "stdout",
          "text": [
            "Downloading data from https://storage.googleapis.com/download.tensorflow.org/data/shakespeare.txt\n",
            "1115394/1115394 [==============================] - 0s 0us/step\n"
          ]
        }
      ],
      "source": [
        "path_to_file = tf.keras.utils.get_file('shakespeare.txt', 'https://storage.googleapis.com/download.tensorflow.org/data/shakespeare.txt')"
      ]
    },
    {
      "cell_type": "markdown",
      "metadata": {
        "id": "3NgptMVMTKZn"
      },
      "source": [
        "Load Data"
      ]
    },
    {
      "cell_type": "code",
      "execution_count": 28,
      "metadata": {
        "colab": {
          "base_uri": "https://localhost:8080/"
        },
        "id": "NsYG_bKFTLPB",
        "outputId": "5c9d06e8-fa26-4599-b57a-93c820c089c3"
      },
      "outputs": [
        {
          "output_type": "stream",
          "name": "stdout",
          "text": [
            "Length of text: 1115394 characters\n"
          ]
        }
      ],
      "source": [
        "# Read, then decode for py2 compat.\n",
        "text = open(path_to_file, 'rb').read().decode(encoding='utf-8')\n",
        "# length of text is the number of characters in it\n",
        "print(f'Length of text: {len(text)} characters')"
      ]
    },
    {
      "cell_type": "code",
      "execution_count": 29,
      "metadata": {
        "colab": {
          "base_uri": "https://localhost:8080/"
        },
        "id": "NY-J71LdTOwF",
        "outputId": "613fbbe6-fda8-4371-90f8-aff877a89793"
      },
      "outputs": [
        {
          "output_type": "stream",
          "name": "stdout",
          "text": [
            "First Citizen:\n",
            "Before we proceed any further, hear me speak.\n",
            "\n",
            "All:\n",
            "Speak, speak.\n",
            "\n",
            "First Citizen:\n",
            "You are all resolved rather to die than to famish?\n",
            "\n",
            "All:\n",
            "Resolved. resolved.\n",
            "\n",
            "First Citizen:\n",
            "First, you know Caius Marcius is chief enemy to the people.\n",
            "\n"
          ]
        }
      ],
      "source": [
        "# Take a look at the first 250 characters in text\n",
        "print(text[:250])"
      ]
    },
    {
      "cell_type": "code",
      "execution_count": 30,
      "metadata": {
        "colab": {
          "base_uri": "https://localhost:8080/"
        },
        "id": "F2_G7vv_TQgd",
        "outputId": "123ecf8d-b257-4ee3-808d-b9b1fe5894e0"
      },
      "outputs": [
        {
          "output_type": "stream",
          "name": "stdout",
          "text": [
            "65 unique characters\n"
          ]
        }
      ],
      "source": [
        "# The unique characters in the file\n",
        "vocab = sorted(set(text))\n",
        "print(f'{len(vocab)} unique characters')"
      ]
    },
    {
      "cell_type": "markdown",
      "metadata": {
        "id": "iP5GAFMQTUMy"
      },
      "source": [
        "Olah Teks"
      ]
    },
    {
      "cell_type": "markdown",
      "metadata": {
        "id": "K5j4WXMDTVip"
      },
      "source": [
        "Vectorize Teks"
      ]
    },
    {
      "cell_type": "markdown",
      "metadata": {
        "id": "-iLwtUVeTXBT"
      },
      "source": [
        "Sebelum training, Anda perlu mengonversi string menjadi representasi numerik. tf.keras.layers.StringLookup dapat mengubah setiap karakter menjadi ID numerik. Caranya adalah teks akan dipecah menjadi token terlebih dahulu."
      ]
    },
    {
      "cell_type": "code",
      "execution_count": 31,
      "metadata": {
        "colab": {
          "base_uri": "https://localhost:8080/"
        },
        "id": "gzlC5HHkTYD_",
        "outputId": "b0e6d150-068b-4cb4-a5df-462dee099e70"
      },
      "outputs": [
        {
          "output_type": "execute_result",
          "data": {
            "text/plain": [
              "<tf.RaggedTensor [[b'a', b'b', b'c', b'd', b'e', b'f', b'g'], [b'x', b'y', b'z']]>"
            ]
          },
          "metadata": {},
          "execution_count": 31
        }
      ],
      "source": [
        "example_texts= ['abcdefg', 'xyz']\n",
        "chars = tf.strings.unicode_split(example_texts, input_encoding='UTF-8')\n",
        "chars"
      ]
    },
    {
      "cell_type": "markdown",
      "metadata": {
        "id": "7u2GF_jPTlI3"
      },
      "source": [
        "sekarang buat tf.keras.layers.StringLookup layer:"
      ]
    },
    {
      "cell_type": "code",
      "execution_count": 32,
      "metadata": {
        "id": "2dSmmop5TmQn"
      },
      "outputs": [],
      "source": [
        "ids_from_chars = tf.keras.layers.StringLookup(\n",
        "vocabulary=list(vocab), mask_token=None)"
      ]
    },
    {
      "cell_type": "markdown",
      "metadata": {
        "id": "rZ8owNVUTu43"
      },
      "source": [
        "perintah diatas mengconvert token menjadi id"
      ]
    },
    {
      "cell_type": "code",
      "execution_count": 33,
      "metadata": {
        "colab": {
          "base_uri": "https://localhost:8080/"
        },
        "id": "O2ZOdHw2Tv6q",
        "outputId": "0657987b-3a76-4f9b-cbdb-1a2c61182d67"
      },
      "outputs": [
        {
          "output_type": "execute_result",
          "data": {
            "text/plain": [
              "<tf.RaggedTensor [[40, 41, 42, 43, 44, 45, 46], [63, 64, 65]]>"
            ]
          },
          "metadata": {},
          "execution_count": 33
        }
      ],
      "source": [
        "ids = ids_from_chars(chars)\n",
        "ids"
      ]
    },
    {
      "cell_type": "markdown",
      "metadata": {
        "id": "5rQG3rXeT1YO"
      },
      "source": [
        "Karena tujuan tutorial ini adalah untuk menghasilkan teks, penting juga untuk membalikkan representasi ini. Untuk ini Anda dapat menggunakan kode tf.keras.layers.StringLookup(..., invert=True)."
      ]
    },
    {
      "cell_type": "markdown",
      "metadata": {
        "id": "9LwaZaJRT2w8"
      },
      "source": [
        "Catatan: pada kode ini, daripada meneruskan kosakata asli yang dihasilkan dengan diurutkan(set(teks)) gunakan metode get_vocabulary() dari tf.keras.layers.StringLookup sehingga token [UNK] disetel dengan cara yang sama."
      ]
    },
    {
      "cell_type": "code",
      "execution_count": 34,
      "metadata": {
        "id": "qryhhMnuT3zY"
      },
      "outputs": [],
      "source": [
        "chars_from_ids = tf.keras.layers.StringLookup(\n",
        "    vocabulary=ids_from_chars.get_vocabulary(), invert=True, mask_token=None)"
      ]
    },
    {
      "cell_type": "markdown",
      "metadata": {
        "id": "3cBvWizRT8wB"
      },
      "source": [
        "Lapisan ini mengconvert kembali karakter dari vektor ID, dan mengembalikannya sebagai karakter tf.RaggedTensor:"
      ]
    },
    {
      "cell_type": "code",
      "execution_count": 35,
      "metadata": {
        "colab": {
          "base_uri": "https://localhost:8080/"
        },
        "id": "kkaTCWkfT-CD",
        "outputId": "03aff690-83b8-49c0-da27-ef8af7ca20e7"
      },
      "outputs": [
        {
          "output_type": "execute_result",
          "data": {
            "text/plain": [
              "<tf.RaggedTensor [[b'a', b'b', b'c', b'd', b'e', b'f', b'g'], [b'x', b'y', b'z']]>"
            ]
          },
          "metadata": {},
          "execution_count": 35
        }
      ],
      "source": [
        "chars = chars_from_ids(ids)\n",
        "chars"
      ]
    },
    {
      "cell_type": "markdown",
      "metadata": {
        "id": "-PMP0OEYUHhR"
      },
      "source": [
        "Anda dapat menggunakan tf.strings.reduce_join untuk menggabungkan kembali karakter menjadi string."
      ]
    },
    {
      "cell_type": "code",
      "execution_count": 36,
      "metadata": {
        "colab": {
          "base_uri": "https://localhost:8080/"
        },
        "id": "p-99qgtaUIjk",
        "outputId": "f79c5fa4-d316-4ad7-cb75-4bae45613fb1"
      },
      "outputs": [
        {
          "output_type": "execute_result",
          "data": {
            "text/plain": [
              "array([b'abcdefg', b'xyz'], dtype=object)"
            ]
          },
          "metadata": {},
          "execution_count": 36
        }
      ],
      "source": [
        "tf.strings.reduce_join(chars, axis=-1).numpy()"
      ]
    },
    {
      "cell_type": "code",
      "execution_count": 37,
      "metadata": {
        "id": "ZGNMKg6pUNSq"
      },
      "outputs": [],
      "source": [
        "def text_from_ids(ids):\n",
        "    return tf.strings.reduce_join(chars_from_ids(ids), axis=-1)"
      ]
    },
    {
      "cell_type": "markdown",
      "metadata": {
        "id": "wSAAEnH4UWSc"
      },
      "source": [
        "Prediksi"
      ]
    },
    {
      "cell_type": "markdown",
      "metadata": {
        "id": "N1RHZQMTUYhg"
      },
      "source": [
        "Diberikan sebuah karakter, atau serangkaian karakter, karakter apa yang paling mungkin berikutnya? Ini adalah tugas yang harus Anda latih agar model dapat melakukannya. Masukan ke model akan berupa urutan karakter, dan Anda melatih model untuk memprediksi keluaran berupa karakter berikut pada setiap langkah waktu. Karena RNN mempertahankan keadaan internal yang bergantung pada elemen yang terlihat sebelumnya, mengingat semua karakter dihitung hingga saat ini, karakter apa selanjutnya?"
      ]
    },
    {
      "cell_type": "markdown",
      "metadata": {
        "id": "3cbE4bS1UaU6"
      },
      "source": [
        "Membuat Trianing Set dan Target"
      ]
    },
    {
      "cell_type": "markdown",
      "metadata": {
        "id": "32T8lGEXUcLn"
      },
      "source": [
        "Selanjutnya bagilah teks menjadi contoh sequence. Setiap masukan sequence akan berisi karakter seq_length dari teks. Untuk setiap masukan sequence, target prediksi berisi teks dengan panjang yang sama, hanya digeser satu karakter ke kanan. Jadi, bagi teks menjadi beberapa bagian seq_length+1. Misalnya, seq_length adalah 4 dan teks kita adalah \"Hello\". Urutan masukannya adalah \"Hell\", dan urutan targetnya adalah \"ello\". Untuk melakukan ini, pertama-tama gunakan fungsi tf.data.Dataset.from_tensor_slices untuk mengonversi vektor teks menjadi aliran indeks karakter."
      ]
    },
    {
      "cell_type": "code",
      "execution_count": 38,
      "metadata": {
        "colab": {
          "base_uri": "https://localhost:8080/"
        },
        "id": "KMbCdtKzUdxv",
        "outputId": "e67b56e7-0171-4d0d-d97d-7d25bb945a76"
      },
      "outputs": [
        {
          "output_type": "execute_result",
          "data": {
            "text/plain": [
              "<tf.Tensor: shape=(1115394,), dtype=int64, numpy=array([19, 48, 57, ..., 46,  9,  1])>"
            ]
          },
          "metadata": {},
          "execution_count": 38
        }
      ],
      "source": [
        "all_ids = ids_from_chars(tf.strings.unicode_split(text, 'UTF-8'))\n",
        "all_ids"
      ]
    },
    {
      "cell_type": "code",
      "execution_count": 39,
      "metadata": {
        "id": "tRncazMtUk63"
      },
      "outputs": [],
      "source": [
        "ids_dataset = tf.data.Dataset.from_tensor_slices(all_ids)"
      ]
    },
    {
      "cell_type": "code",
      "execution_count": 40,
      "metadata": {
        "colab": {
          "base_uri": "https://localhost:8080/"
        },
        "id": "DAgDAGLiWbyP",
        "outputId": "84723fde-d80b-4bc3-a6ee-cccab26a36f1"
      },
      "outputs": [
        {
          "output_type": "stream",
          "name": "stdout",
          "text": [
            "F\n",
            "i\n",
            "r\n",
            "s\n",
            "t\n",
            " \n",
            "C\n",
            "i\n",
            "t\n",
            "i\n"
          ]
        }
      ],
      "source": [
        "for ids in ids_dataset.take(10):\n",
        "    print(chars_from_ids(ids).numpy().decode('utf-8'))"
      ]
    },
    {
      "cell_type": "code",
      "execution_count": 41,
      "metadata": {
        "id": "oBVj4GYxWi5H"
      },
      "outputs": [],
      "source": [
        "seq_length = 100"
      ]
    },
    {
      "cell_type": "markdown",
      "metadata": {
        "id": "e7hkc2-fWpMJ"
      },
      "source": [
        "Metode batch memungkinkan Anda dengan mudah mengonversi karakter individual ini menjadi urutan ukuran yang diinginkan."
      ]
    },
    {
      "cell_type": "code",
      "execution_count": 42,
      "metadata": {
        "colab": {
          "base_uri": "https://localhost:8080/"
        },
        "id": "AjJNRslcWrIE",
        "outputId": "da5999fa-6492-450d-f829-109443111bd0"
      },
      "outputs": [
        {
          "output_type": "stream",
          "name": "stdout",
          "text": [
            "tf.Tensor(\n",
            "[b'F' b'i' b'r' b's' b't' b' ' b'C' b'i' b't' b'i' b'z' b'e' b'n' b':'\n",
            " b'\\n' b'B' b'e' b'f' b'o' b'r' b'e' b' ' b'w' b'e' b' ' b'p' b'r' b'o'\n",
            " b'c' b'e' b'e' b'd' b' ' b'a' b'n' b'y' b' ' b'f' b'u' b'r' b't' b'h'\n",
            " b'e' b'r' b',' b' ' b'h' b'e' b'a' b'r' b' ' b'm' b'e' b' ' b's' b'p'\n",
            " b'e' b'a' b'k' b'.' b'\\n' b'\\n' b'A' b'l' b'l' b':' b'\\n' b'S' b'p' b'e'\n",
            " b'a' b'k' b',' b' ' b's' b'p' b'e' b'a' b'k' b'.' b'\\n' b'\\n' b'F' b'i'\n",
            " b'r' b's' b't' b' ' b'C' b'i' b't' b'i' b'z' b'e' b'n' b':' b'\\n' b'Y'\n",
            " b'o' b'u' b' '], shape=(101,), dtype=string)\n"
          ]
        }
      ],
      "source": [
        "sequences = ids_dataset.batch(seq_length+1, drop_remainder=True)\n",
        "\n",
        "for seq in sequences.take(1):\n",
        "  print(chars_from_ids(seq))"
      ]
    },
    {
      "cell_type": "markdown",
      "metadata": {
        "id": "2YKTCbYFWuKb"
      },
      "source": [
        "akan lebih mudah untuk melihat apa yang dilakukan jika Anda menggabungkan token kembali menjadi string:"
      ]
    },
    {
      "cell_type": "code",
      "execution_count": 43,
      "metadata": {
        "colab": {
          "base_uri": "https://localhost:8080/"
        },
        "id": "AwIOyVhRWvJ7",
        "outputId": "dadc0541-653f-4064-82c4-a5bef60f8818"
      },
      "outputs": [
        {
          "output_type": "stream",
          "name": "stdout",
          "text": [
            "b'First Citizen:\\nBefore we proceed any further, hear me speak.\\n\\nAll:\\nSpeak, speak.\\n\\nFirst Citizen:\\nYou '\n",
            "b'are all resolved rather to die than to famish?\\n\\nAll:\\nResolved. resolved.\\n\\nFirst Citizen:\\nFirst, you k'\n",
            "b\"now Caius Marcius is chief enemy to the people.\\n\\nAll:\\nWe know't, we know't.\\n\\nFirst Citizen:\\nLet us ki\"\n",
            "b\"ll him, and we'll have corn at our own price.\\nIs't a verdict?\\n\\nAll:\\nNo more talking on't; let it be d\"\n",
            "b'one: away, away!\\n\\nSecond Citizen:\\nOne word, good citizens.\\n\\nFirst Citizen:\\nWe are accounted poor citi'\n"
          ]
        }
      ],
      "source": [
        "for seq in sequences.take(5):\n",
        "    print(text_from_ids(seq).numpy())"
      ]
    },
    {
      "cell_type": "markdown",
      "metadata": {
        "id": "Ku8t_JjaW1nb"
      },
      "source": [
        "Untuk pelatihan, Anda memerlukan kumpulan data pasangan (input, label). Dimana input dan label merupakan urutan. Pada setiap langkah waktu, inputnya adalah karakter saat ini dan labelnya adalah karakter berikutnya. Berikut adalah fungsi yang mengambil urutan sebagai masukan, menduplikasi, dan menggesernya untuk menyelaraskan masukan dan label untuk setiap langkah waktu:"
      ]
    },
    {
      "cell_type": "code",
      "execution_count": 44,
      "metadata": {
        "id": "fNDx4Ei6W4z9"
      },
      "outputs": [],
      "source": [
        "def split_input_target(sequence):\n",
        "  input_text = sequence[:-1]\n",
        "  target_text = sequence[1:]\n",
        "  return input_text, target_text"
      ]
    },
    {
      "cell_type": "code",
      "execution_count": 45,
      "metadata": {
        "colab": {
          "base_uri": "https://localhost:8080/"
        },
        "id": "cPm-kggXXItf",
        "outputId": "c68be28c-93b4-4578-c571-75b4acedd06c"
      },
      "outputs": [
        {
          "output_type": "execute_result",
          "data": {
            "text/plain": [
              "(['T', 'e', 'n', 's', 'o', 'r', 'f', 'l', 'o'],\n",
              " ['e', 'n', 's', 'o', 'r', 'f', 'l', 'o', 'w'])"
            ]
          },
          "metadata": {},
          "execution_count": 45
        }
      ],
      "source": [
        "split_input_target(list(\"Tensorflow\"))"
      ]
    },
    {
      "cell_type": "code",
      "execution_count": 46,
      "metadata": {
        "id": "3Dl3ZXoLXK7F"
      },
      "outputs": [],
      "source": [
        "dataset = sequences.map(split_input_target)"
      ]
    },
    {
      "cell_type": "code",
      "execution_count": 47,
      "metadata": {
        "colab": {
          "base_uri": "https://localhost:8080/"
        },
        "id": "5OSgEHVCXOkn",
        "outputId": "36cb1de1-1621-4cac-bd7a-54a400cbc2a6"
      },
      "outputs": [
        {
          "output_type": "stream",
          "name": "stdout",
          "text": [
            "Input : b'First Citizen:\\nBefore we proceed any further, hear me speak.\\n\\nAll:\\nSpeak, speak.\\n\\nFirst Citizen:\\nYou'\n",
            "Target: b'irst Citizen:\\nBefore we proceed any further, hear me speak.\\n\\nAll:\\nSpeak, speak.\\n\\nFirst Citizen:\\nYou '\n"
          ]
        }
      ],
      "source": [
        "for input_example, target_example in dataset.take(1):\n",
        "  print(\"Input :\", text_from_ids(input_example).numpy())\n",
        "  print(\"Target:\", text_from_ids(target_example).numpy())"
      ]
    },
    {
      "cell_type": "markdown",
      "metadata": {
        "id": "IIcAUOPuXhY4"
      },
      "source": [
        "Membuat Batch Training"
      ]
    },
    {
      "cell_type": "markdown",
      "metadata": {
        "id": "2pKbI1UZXl7t"
      },
      "source": [
        "Anda menggunakan tf.data untuk membagi teks menjadi sequence yang dapat diatur. Namun sebelum memasukkan data ini ke dalam model, Anda perlu mengacak data dan mengemasnya ke dalam batch."
      ]
    },
    {
      "cell_type": "code",
      "execution_count": 48,
      "metadata": {
        "colab": {
          "base_uri": "https://localhost:8080/"
        },
        "id": "qsBX14QRXoHt",
        "outputId": "f6200647-a3ab-49b8-8940-9abfb1797455"
      },
      "outputs": [
        {
          "output_type": "execute_result",
          "data": {
            "text/plain": [
              "<_PrefetchDataset element_spec=(TensorSpec(shape=(64, 100), dtype=tf.int64, name=None), TensorSpec(shape=(64, 100), dtype=tf.int64, name=None))>"
            ]
          },
          "metadata": {},
          "execution_count": 48
        }
      ],
      "source": [
        "# Batch size\n",
        "BATCH_SIZE = 64\n",
        "\n",
        "# Buffer size to shuffle the dataset\n",
        "# (TF data is designed to work with possibly infinite sequences,\n",
        "# so it doesn't attempt to shuffle the entire sequence in memory. Instead,\n",
        "# it maintains a buffer in which it shuffles elements).\n",
        "BUFFER_SIZE = 10000\n",
        "\n",
        "dataset = (\n",
        "    dataset\n",
        "    .shuffle(BUFFER_SIZE)\n",
        "    .batch(BATCH_SIZE, drop_remainder=True)\n",
        "    .prefetch(tf.data.experimental.AUTOTUNE))\n",
        "\n",
        "dataset"
      ]
    },
    {
      "cell_type": "markdown",
      "metadata": {
        "id": "BMzlJrUyXrNs"
      },
      "source": [
        "Buat Model"
      ]
    },
    {
      "cell_type": "markdown",
      "metadata": {
        "id": "GpiTq3gtXv4W"
      },
      "source": [
        "Bagian ini mendefinisikan model sebagai subkelas keras.Model (untuk lebih detilnya, lihat Making new Layers and Models via subclassing)."
      ]
    },
    {
      "cell_type": "markdown",
      "metadata": {
        "id": "eQQkEbEsXzpy"
      },
      "source": [
        "Model yang kita bangun memiliki 3 lapisan neural network :"
      ]
    },
    {
      "cell_type": "markdown",
      "metadata": {
        "id": "8UsHBNcsX1wc"
      },
      "source": [
        "tf.keras.layers.Embedding: Lapisan masukan. Tabel pencarian yang dapat dilatih yang akan memetakan setiap karakter-ID ke vektor dengan dimensi embedding_dim;\n",
        "\n",
        "tf.keras.layers.GRU: lapisan RNN dengan ukuran unit=rnn_units (Anda juga dapat menggunakan lapisan LSTM di sini.)\n",
        "\n",
        "tf.keras.layers.Dense: Lapisan keluaran, dengan keluaran vocab_size. Ini menghasilkan satu logit untuk setiap karakter dalam kosakata. Ini adalah log kemungkinan setiap karakter menurut model."
      ]
    },
    {
      "cell_type": "code",
      "execution_count": 49,
      "metadata": {
        "id": "Ui60LO52X5N7"
      },
      "outputs": [],
      "source": [
        "# Length of the vocabulary in StringLookup Layer\n",
        "vocab_size = len(ids_from_chars.get_vocabulary())\n",
        "\n",
        "# The embedding dimension\n",
        "embedding_dim = 256\n",
        "\n",
        "# Number of RNN units\n",
        "rnn_units = 1024"
      ]
    },
    {
      "cell_type": "code",
      "execution_count": 50,
      "metadata": {
        "id": "3RFAUZ8hX8Hs"
      },
      "outputs": [],
      "source": [
        "class MyModel(tf.keras.Model):\n",
        "  def __init__(self, vocab_size, embedding_dim, rnn_units):\n",
        "    super().__init__(self)\n",
        "    self.embedding = tf.keras.layers.Embedding(vocab_size, embedding_dim)\n",
        "    self.gru = tf.keras.layers.GRU(rnn_units,\n",
        "                                   return_sequences=True,\n",
        "                                   return_state=True)\n",
        "    self.dense = tf.keras.layers.Dense(vocab_size)\n",
        "\n",
        "  def call(self, inputs, states=None, return_state=False, training=False):\n",
        "    x = inputs\n",
        "    x = self.embedding(x, training=training)\n",
        "    if states is None:\n",
        "      states = self.gru.get_initial_state(x)\n",
        "    x, states = self.gru(x, initial_state=states, training=training)\n",
        "    x = self.dense(x, training=training)\n",
        "\n",
        "    if return_state:\n",
        "      return x, states\n",
        "    else:\n",
        "      return x"
      ]
    },
    {
      "cell_type": "code",
      "execution_count": 51,
      "metadata": {
        "id": "hQ2892HfX-92"
      },
      "outputs": [],
      "source": [
        "model = MyModel(\n",
        "    vocab_size=vocab_size,\n",
        "    embedding_dim=embedding_dim,\n",
        "    rnn_units=rnn_units)"
      ]
    },
    {
      "cell_type": "markdown",
      "metadata": {
        "id": "XxMrKwVWYCgy"
      },
      "source": [
        "Untuk setiap karakter, model mencari penyematan, menjalankan GRU satu langkah waktu dengan penyematan sebagai masukan, dan menerapkan dense layer untuk menghasilkan log yang memprediksi kemungkinan log karakter berikutnya:"
      ]
    },
    {
      "cell_type": "markdown",
      "metadata": {
        "id": "iGBy9ZxfYE8W"
      },
      "source": [
        "Note: Untuk pelatihan Anda bisa menggunakan model keras.Sequential di sini. Untuk menghasilkan teks nanti, Anda harus mengelola status internal RNN. Akan lebih mudah untuk memasukkan opsi input dan output status di awal, daripada mengatur ulang arsitektur model nanti. untuk detailnya bisa dilihat Keras RNN guide."
      ]
    },
    {
      "cell_type": "markdown",
      "metadata": {
        "id": "xJ0meu6KYHD5"
      },
      "source": [
        "Uji Model"
      ]
    },
    {
      "cell_type": "markdown",
      "metadata": {
        "id": "x2vCKmVrYKFH"
      },
      "source": [
        "Coba jalankan model dan cek apakah sidah sesuai dengan output"
      ]
    },
    {
      "cell_type": "markdown",
      "metadata": {
        "id": "JfpszoeNYMIt"
      },
      "source": [
        "pertama, cek bentuk dari output"
      ]
    },
    {
      "cell_type": "code",
      "execution_count": 52,
      "metadata": {
        "colab": {
          "base_uri": "https://localhost:8080/"
        },
        "id": "P2OhZ_clYNPk",
        "outputId": "692bd7ff-f10e-47e7-814a-04aed10867ed"
      },
      "outputs": [
        {
          "output_type": "stream",
          "name": "stdout",
          "text": [
            "(64, 100, 66) # (batch_size, sequence_length, vocab_size)\n"
          ]
        }
      ],
      "source": [
        "for input_example_batch, target_example_batch in dataset.take(1):\n",
        "    example_batch_predictions = model(input_example_batch)\n",
        "    print(example_batch_predictions.shape, \"# (batch_size, sequence_length, vocab_size)\")"
      ]
    },
    {
      "cell_type": "markdown",
      "metadata": {
        "id": "kY2ShAbiYSOW"
      },
      "source": [
        "Dalam contoh di atas, panjang urutan masukan adalah 100 tetapi model dapat dijalankan pada masukan dengan panjang berapa pun:"
      ]
    },
    {
      "cell_type": "code",
      "execution_count": 53,
      "metadata": {
        "colab": {
          "base_uri": "https://localhost:8080/"
        },
        "id": "-dfzkolCYcef",
        "outputId": "5a9abdc0-4ab1-4a16-e66a-b3d806077929"
      },
      "outputs": [
        {
          "output_type": "stream",
          "name": "stdout",
          "text": [
            "Model: \"my_model\"\n",
            "_________________________________________________________________\n",
            " Layer (type)                Output Shape              Param #   \n",
            "=================================================================\n",
            " embedding_2 (Embedding)     multiple                  16896     \n",
            "                                                                 \n",
            " gru (GRU)                   multiple                  3938304   \n",
            "                                                                 \n",
            " dense_4 (Dense)             multiple                  67650     \n",
            "                                                                 \n",
            "=================================================================\n",
            "Total params: 4022850 (15.35 MB)\n",
            "Trainable params: 4022850 (15.35 MB)\n",
            "Non-trainable params: 0 (0.00 Byte)\n",
            "_________________________________________________________________\n"
          ]
        }
      ],
      "source": [
        "model.summary()"
      ]
    },
    {
      "cell_type": "markdown",
      "metadata": {
        "id": "5vHvf1juZ8yI"
      },
      "source": [
        "Untuk mendapatkan prediksi aktual dari model, Anda perlu mengambil sampel dari distribusi keluaran, untuk mendapatkan indeks karakter aktual. Distribusi ini ditentukan oleh logit pada kosakata karakter. Catatan: Penting untuk mengambil sampel dari distribusi ini karena mengambil argmax dari distribusi tersebut dapat dengan mudah membuat model terjebak dalam infinote loop. Cobalah untuk contoh pertama di batch:"
      ]
    },
    {
      "cell_type": "code",
      "execution_count": 54,
      "metadata": {
        "id": "z0orJVQSZ-Cz"
      },
      "outputs": [],
      "source": [
        "sampled_indices = tf.random.categorical(example_batch_predictions[0], num_samples=1)\n",
        "sampled_indices = tf.squeeze(sampled_indices, axis=-1).numpy()"
      ]
    },
    {
      "cell_type": "markdown",
      "metadata": {
        "id": "t58hB0aiasPV"
      },
      "source": [
        "Hal ini memberi kita, pada setiap langkah waktu, prediksi indeks karakter berikutnya:"
      ]
    },
    {
      "cell_type": "code",
      "execution_count": 55,
      "metadata": {
        "colab": {
          "base_uri": "https://localhost:8080/"
        },
        "id": "8j3O7pcLatfj",
        "outputId": "9b81b5c2-49b9-4255-d84e-739835ef9e2e"
      },
      "outputs": [
        {
          "output_type": "execute_result",
          "data": {
            "text/plain": [
              "array([49, 16,  9,  8, 23, 46,  9, 49, 17, 35, 54, 26, 44, 14, 39, 59, 29,\n",
              "       21, 35, 63, 64,  3, 15, 46, 55, 29, 32, 24, 41,  6, 55, 59, 43, 33,\n",
              "       56, 25,  3, 42, 25, 33, 34, 26, 15, 65, 57, 14, 30, 24, 35, 16, 22,\n",
              "       22, 64, 64, 35, 30, 53, 19, 57, 33,  7, 50, 39, 22, 13, 15,  4, 25,\n",
              "       11, 38, 65,  6, 29, 45, 43, 31, 57, 32, 58, 57, 21, 38, 12, 17, 49,\n",
              "       49, 50,  8, 14, 17, 11, 50, 54, 57, 55, 62, 48, 46, 44, 47])"
            ]
          },
          "metadata": {},
          "execution_count": 55
        }
      ],
      "source": [
        "sampled_indices"
      ]
    },
    {
      "cell_type": "markdown",
      "metadata": {
        "id": "Ol8Tbvqsa9Ve"
      },
      "source": [
        "Dekode kode berikut untuk melihat teks yang diprediksi oleh model tidak terlatih ini:"
      ]
    },
    {
      "cell_type": "code",
      "execution_count": 56,
      "metadata": {
        "colab": {
          "base_uri": "https://localhost:8080/"
        },
        "id": "T5Z8YrW2a-Nz",
        "outputId": "636ed2a5-a03f-453a-c169-68f65803e335"
      },
      "outputs": [
        {
          "output_type": "stream",
          "name": "stdout",
          "text": [
            "Input:\n",
            " b'\\nBUCKINGHAM:\\nFie, what an indirect and peevish course\\nIs this of hers! Lord cardinal, will your grac'\n",
            "\n",
            "Next Char Predictions:\n",
            " b\"jC.-Jg.jDVoMeAZtPHVxy!BgpPSKb'ptdTqL!cLTUMBzrAQKVCIIyyVQnFrT,kZI?B$L:Yz'PfdRrSsrHY;Djjk-AD:korpwigeh\"\n"
          ]
        }
      ],
      "source": [
        "print(\"Input:\\n\", text_from_ids(input_example_batch[0]).numpy())\n",
        "print()\n",
        "print(\"Next Char Predictions:\\n\", text_from_ids(sampled_indices).numpy())"
      ]
    },
    {
      "cell_type": "markdown",
      "metadata": {
        "id": "O-0aMK-mbEKR"
      },
      "source": [
        "Train Model"
      ]
    },
    {
      "cell_type": "markdown",
      "metadata": {
        "id": "RHBZKblBbGH4"
      },
      "source": [
        "Pada titik ini permasalahan dapat dianggap sebagai permasalahan klasifikasi standar. Permasalahan dapat disimpulkan dengan : Berdasarkan status RNN sebelumnya, dan masukan langkah kali ini, prediksi kelas karakter berikutnya."
      ]
    },
    {
      "cell_type": "markdown",
      "metadata": {
        "id": "_XXB2S3ibHje"
      },
      "source": [
        "Tambahan optimizer dan fungsi loss"
      ]
    },
    {
      "cell_type": "markdown",
      "metadata": {
        "id": "Tb8D2RczbJmy"
      },
      "source": [
        "loss function tf.keras.losses.sparse_categorical_crossentropy standar berfungsi dalam kasus ini karena diterapkan di seluruh dimensi terakhir prediksi. Karena model Anda mengembalikan logits, Anda perlu mengatur flag from_logits."
      ]
    },
    {
      "cell_type": "code",
      "execution_count": 57,
      "metadata": {
        "id": "n7A56q8KbKxQ"
      },
      "outputs": [],
      "source": [
        "loss = tf.losses.SparseCategoricalCrossentropy(from_logits=True)"
      ]
    },
    {
      "cell_type": "code",
      "execution_count": 58,
      "metadata": {
        "colab": {
          "base_uri": "https://localhost:8080/"
        },
        "id": "VRBdfwsVbO-5",
        "outputId": "e74a274c-a0a8-4e1e-c9e7-c2b5307d3e15"
      },
      "outputs": [
        {
          "output_type": "stream",
          "name": "stdout",
          "text": [
            "Prediction shape:  (64, 100, 66)  # (batch_size, sequence_length, vocab_size)\n",
            "Mean loss:         tf.Tensor(4.189402, shape=(), dtype=float32)\n"
          ]
        }
      ],
      "source": [
        "example_batch_mean_loss = loss(target_example_batch, example_batch_predictions)\n",
        "print(\"Prediction shape: \", example_batch_predictions.shape, \" # (batch_size, sequence_length, vocab_size)\")\n",
        "print(\"Mean loss:        \", example_batch_mean_loss)"
      ]
    },
    {
      "cell_type": "markdown",
      "metadata": {
        "id": "3p9ec1c_b845"
      },
      "source": [
        "Model yang baru diinisialisasi tidak boleh terlalu yakin dengan dirinya sendiri, semua log keluaran harus memiliki besaran yang sama. Untuk mengonfirmasi hal ini, Anda dapat memeriksa bahwa eksponensial dari loss rata-rata harus kira-kira sama dengan ukuran kosakata. Loss yang jauh lebih tinggi berarti model tersebut yakin akan jawaban yang salah, dan memiliki inisialisasi yang buruk:"
      ]
    },
    {
      "cell_type": "code",
      "execution_count": 59,
      "metadata": {
        "colab": {
          "base_uri": "https://localhost:8080/"
        },
        "id": "YCcJ5Qv9b-iI",
        "outputId": "afc748a9-2c76-489a-bd28-0502fb560ba6"
      },
      "outputs": [
        {
          "output_type": "execute_result",
          "data": {
            "text/plain": [
              "65.98333"
            ]
          },
          "metadata": {},
          "execution_count": 59
        }
      ],
      "source": [
        "tf.exp(example_batch_mean_loss).numpy()"
      ]
    },
    {
      "cell_type": "markdown",
      "metadata": {
        "id": "zwIuzEIMcBCv"
      },
      "source": [
        "Konfigurasikan prosedur pelatihan menggunakan metode tf.keras.Model.compile. Gunakan tf.keras.optimizers.Adam dengan argumen default dan fungsi loss."
      ]
    },
    {
      "cell_type": "code",
      "execution_count": 60,
      "metadata": {
        "id": "iknLoxNccCX6"
      },
      "outputs": [],
      "source": [
        "model.compile(optimizer='adam', loss=loss)"
      ]
    },
    {
      "cell_type": "markdown",
      "metadata": {
        "id": "zMtdbVj2cZIa"
      },
      "source": [
        "Konfigurasi Checkpoints"
      ]
    },
    {
      "cell_type": "markdown",
      "metadata": {
        "id": "WSvarYoJcakc"
      },
      "source": [
        "Gunakan tf.keras.callbacks.ModelCheckpoint untuk memastikan bahwa checkpoint disimpan selama pelatihan:"
      ]
    },
    {
      "cell_type": "code",
      "execution_count": 61,
      "metadata": {
        "id": "2R97zoQxcbl8"
      },
      "outputs": [],
      "source": [
        "# Directory where the checkpoints will be saved\n",
        "checkpoint_dir = './training_checkpoints'\n",
        "# Name of the checkpoint files\n",
        "checkpoint_prefix = os.path.join(checkpoint_dir, \"ckpt_{epoch}\")\n",
        "\n",
        "checkpoint_callback = tf.keras.callbacks.ModelCheckpoint(\n",
        "    filepath=checkpoint_prefix,\n",
        "    save_weights_only=True)"
      ]
    },
    {
      "cell_type": "markdown",
      "metadata": {
        "id": "ZODayDgFck1D"
      },
      "source": [
        "Lakukan Proses Training"
      ]
    },
    {
      "cell_type": "markdown",
      "metadata": {
        "id": "b9mYp7aOcmSD"
      },
      "source": [
        "Agar waktu pelatihan tidak terlalu lama, gunakan 10 epoch untuk melatih model. Di Colab, setel runtime ke GPU untuk pelatihan yang lebih cepat."
      ]
    },
    {
      "cell_type": "code",
      "execution_count": 62,
      "metadata": {
        "id": "UUwShXCXcnu2"
      },
      "outputs": [],
      "source": [
        "EPOCHS = 20"
      ]
    },
    {
      "cell_type": "code",
      "execution_count": 63,
      "metadata": {
        "colab": {
          "base_uri": "https://localhost:8080/"
        },
        "id": "6KUg8SEGcwJt",
        "outputId": "00d2a4d9-7b5a-4789-ce3d-821e43c09fcb"
      },
      "outputs": [
        {
          "output_type": "stream",
          "name": "stdout",
          "text": [
            "Epoch 1/20\n",
            "172/172 [==============================] - 15s 62ms/step - loss: 2.7332\n",
            "Epoch 2/20\n",
            "172/172 [==============================] - 12s 59ms/step - loss: 2.0037\n",
            "Epoch 3/20\n",
            "172/172 [==============================] - 12s 59ms/step - loss: 1.7263\n",
            "Epoch 4/20\n",
            "172/172 [==============================] - 12s 60ms/step - loss: 1.5622\n",
            "Epoch 5/20\n",
            "172/172 [==============================] - 12s 58ms/step - loss: 1.4615\n",
            "Epoch 6/20\n",
            "172/172 [==============================] - 13s 58ms/step - loss: 1.3927\n",
            "Epoch 7/20\n",
            "172/172 [==============================] - 13s 58ms/step - loss: 1.3394\n",
            "Epoch 8/20\n",
            "172/172 [==============================] - 12s 59ms/step - loss: 1.2945\n",
            "Epoch 9/20\n",
            "172/172 [==============================] - 12s 59ms/step - loss: 1.2540\n",
            "Epoch 10/20\n",
            "172/172 [==============================] - 12s 58ms/step - loss: 1.2153\n",
            "Epoch 11/20\n",
            "172/172 [==============================] - 12s 58ms/step - loss: 1.1765\n",
            "Epoch 12/20\n",
            "172/172 [==============================] - 12s 58ms/step - loss: 1.1361\n",
            "Epoch 13/20\n",
            "172/172 [==============================] - 12s 59ms/step - loss: 1.0952\n",
            "Epoch 14/20\n",
            "172/172 [==============================] - 13s 57ms/step - loss: 1.0505\n",
            "Epoch 15/20\n",
            "172/172 [==============================] - 13s 58ms/step - loss: 1.0042\n",
            "Epoch 16/20\n",
            "172/172 [==============================] - 13s 60ms/step - loss: 0.9566\n",
            "Epoch 17/20\n",
            "172/172 [==============================] - 12s 59ms/step - loss: 0.9058\n",
            "Epoch 18/20\n",
            "172/172 [==============================] - 12s 60ms/step - loss: 0.8526\n",
            "Epoch 19/20\n",
            "172/172 [==============================] - 12s 58ms/step - loss: 0.8011\n",
            "Epoch 20/20\n",
            "172/172 [==============================] - 12s 59ms/step - loss: 0.7510\n"
          ]
        }
      ],
      "source": [
        "history = model.fit(dataset, epochs=EPOCHS, callbacks=[checkpoint_callback])"
      ]
    },
    {
      "cell_type": "markdown",
      "source": [
        "Generate Teks"
      ],
      "metadata": {
        "id": "93Cs8mIOvpG1"
      }
    },
    {
      "cell_type": "markdown",
      "source": [
        "Cara termudah untuk menghasilkan teks dengan model ini adalah dengan menjalankannya dalam loop, dan menyimpan status internal model saat Anda menjalankannya."
      ],
      "metadata": {
        "id": "qXt48ScKvtBO"
      }
    },
    {
      "cell_type": "markdown",
      "source": [
        "Setiap kali Anda memanggil model, Anda memasukkan beberapa teks dan state internal. Model mengembalikan prediksi untuk karakter berikutnya dan state barunya. Masukkan kembali prediksi dan state ke model untuk terus menghasilkan teks."
      ],
      "metadata": {
        "id": "ouy2ZTQJvxE8"
      }
    },
    {
      "cell_type": "markdown",
      "source": [
        "Berikut ini membuat prediksi satu langkah:"
      ],
      "metadata": {
        "id": "1TrvP9RjvzpT"
      }
    },
    {
      "cell_type": "code",
      "source": [
        "class OneStep(tf.keras.Model):\n",
        "  def __init__(self, model, chars_from_ids, ids_from_chars, temperature=1.0):\n",
        "    super().__init__()\n",
        "    self.temperature = temperature\n",
        "    self.model = model\n",
        "    self.chars_from_ids = chars_from_ids\n",
        "    self.ids_from_chars = ids_from_chars\n",
        "\n",
        "    # Create a mask to prevent \"[UNK]\" from being generated.\n",
        "    skip_ids = self.ids_from_chars(['[UNK]'])[:, None]\n",
        "    sparse_mask = tf.SparseTensor(\n",
        "        # Put a -inf at each bad index.\n",
        "        values=[-float('inf')]*len(skip_ids),\n",
        "        indices=skip_ids,\n",
        "        # Match the shape to the vocabulary\n",
        "        dense_shape=[len(ids_from_chars.get_vocabulary())])\n",
        "    self.prediction_mask = tf.sparse.to_dense(sparse_mask)\n",
        "\n",
        "  @tf.function\n",
        "  def generate_one_step(self, inputs, states=None):\n",
        "    # Convert strings to token IDs.\n",
        "    input_chars = tf.strings.unicode_split(inputs, 'UTF-8')\n",
        "    input_ids = self.ids_from_chars(input_chars).to_tensor()\n",
        "\n",
        "    # Run the model.\n",
        "    # predicted_logits.shape is [batch, char, next_char_logits]\n",
        "    predicted_logits, states = self.model(inputs=input_ids, states=states,\n",
        "                                          return_state=True)\n",
        "    # Only use the last prediction.\n",
        "    predicted_logits = predicted_logits[:, -1, :]\n",
        "    predicted_logits = predicted_logits/self.temperature\n",
        "    # Apply the prediction mask: prevent \"[UNK]\" from being generated.\n",
        "    predicted_logits = predicted_logits + self.prediction_mask\n",
        "\n",
        "    # Sample the output logits to generate token IDs.\n",
        "    predicted_ids = tf.random.categorical(predicted_logits, num_samples=1)\n",
        "    predicted_ids = tf.squeeze(predicted_ids, axis=-1)\n",
        "\n",
        "    # Convert from token ids to characters\n",
        "    predicted_chars = self.chars_from_ids(predicted_ids)\n",
        "\n",
        "    # Return the characters and model state.\n",
        "    return predicted_chars, states"
      ],
      "metadata": {
        "id": "X0WRw23EYzci"
      },
      "execution_count": 64,
      "outputs": []
    },
    {
      "cell_type": "code",
      "source": [
        "one_step_model = OneStep(model, chars_from_ids, ids_from_chars)"
      ],
      "metadata": {
        "id": "UDnj5cw1Y3Dn"
      },
      "execution_count": 65,
      "outputs": []
    },
    {
      "cell_type": "markdown",
      "source": [
        "Jalankan secara berulang untuk menghasilkan beberapa teks. Melihat teks yang dihasilkan, Anda akan melihat model mengetahui kapan harus menggunakan huruf besar, membuat paragraf, dan meniru kosakata menulis seperti Shakespeare. Karena sedikitnya jumlah epoch pelatihan, model belum belajar membentuk kalimat runtut."
      ],
      "metadata": {
        "id": "DW0Y1uBTZB51"
      }
    },
    {
      "cell_type": "code",
      "source": [
        "start = time.time()\n",
        "states = None\n",
        "next_char = tf.constant(['ROMEO:'])\n",
        "result = [next_char]\n",
        "\n",
        "for n in range(1000):\n",
        "  next_char, states = one_step_model.generate_one_step(next_char, states=states)\n",
        "  result.append(next_char)\n",
        "\n",
        "result = tf.strings.join(result)\n",
        "end = time.time()\n",
        "print(result[0].numpy().decode('utf-8'), '\\n\\n' + '_'*80)\n",
        "print('\\nRun time:', end - start)"
      ],
      "metadata": {
        "colab": {
          "base_uri": "https://localhost:8080/"
        },
        "id": "bXahrqpNZDTG",
        "outputId": "5787601d-3ea2-4890-c21e-7524a87cefb7"
      },
      "execution_count": 66,
      "outputs": [
        {
          "output_type": "stream",
          "name": "stdout",
          "text": [
            "ROMEO:\n",
            "She was a man--pell'd, 'I, shall we putty\n",
            "Contempt them than Angelo: say any warn'd;\n",
            "Insheat, and, above me to my driving about?\n",
            "\n",
            "BUCKINGHAM:\n",
            "To herrieg by this delicer Tarnot.\n",
            "\n",
            "SICINIUS:\n",
            "Pray not, sir, whom soon Isabel? grawn\n",
            "Rever her faulth; as he fixs palaster.\n",
            "\n",
            "KING EDWARD IV:\n",
            "Yea, brother, for I hold point to me!\n",
            "Never breathed in my bones for meat, prononce changes.\n",
            "\n",
            "Third Watchman:\n",
            "Here is a nurse, and be some forward rastard?\n",
            "Yet, sir, canst thou bring thee in my womb?\n",
            "\n",
            "HASTINGS:\n",
            "I had rather charied thee run my count:\n",
            "Myself a coward comfort am I swole,\n",
            "No shall I rather shall entreat you\n",
            "But that your majesty Hastings as an\n",
            "enecy, or I it scoansly, 'twas by new came behind\n",
            "Your majesty disecuses lightness of your daughter,\n",
            "In that integrity's head in love!\n",
            "\n",
            "BAPTISTA:\n",
            "I am a-kind, though being along\n",
            "The bastard mangle; what, with such view of himself\n",
            "To have him sudder: trudders, I will prick\n",
            "to-day; and I we are all unknown in brother;\n",
            "But this do I think he was to bear a c \n",
            "\n",
            "________________________________________________________________________________\n",
            "\n",
            "Run time: 4.403749465942383\n"
          ]
        }
      ]
    },
    {
      "cell_type": "markdown",
      "source": [
        "Hal termudah yang dapat Anda lakukan untuk meningkatkan hasil adalah dengan melatihnya lebih lama (coba EPOCHS = 30). Anda juga dapat bereksperimen dengan string awal yang berbeda, mencoba menambahkan lapisan RNN lain untuk meningkatkan akurasi model, atau menyesuaikan parameter suhu untuk menghasilkan prediksi yang kurang lebih acak."
      ],
      "metadata": {
        "id": "pBTqcqfgZJqz"
      }
    },
    {
      "cell_type": "markdown",
      "source": [
        "Jika Anda ingin model menghasilkan teks lebih cepat, hal termudah yang dapat Anda lakukan adalah membuat teks secara batch. Pada contoh di bawah, model menghasilkan 5 keluaran dalam waktu yang hampir sama dengan waktu yang dibutuhkan untuk menghasilkan 1 keluaran di atas."
      ],
      "metadata": {
        "id": "jPikDdz3ZMBC"
      }
    },
    {
      "cell_type": "code",
      "source": [
        "start = time.time()\n",
        "states = None\n",
        "next_char = tf.constant(['ROMEO:', 'ROMEO:', 'ROMEO:', 'ROMEO:', 'ROMEO:'])\n",
        "result = [next_char]\n",
        "\n",
        "for n in range(1000):\n",
        "  next_char, states = one_step_model.generate_one_step(next_char, states=states)\n",
        "  result.append(next_char)\n",
        "\n",
        "result = tf.strings.join(result)\n",
        "end = time.time()\n",
        "print(result, '\\n\\n' + '_'*80)\n",
        "print('\\nRun time:', end - start)"
      ],
      "metadata": {
        "colab": {
          "base_uri": "https://localhost:8080/"
        },
        "id": "Ciz6-r1SZNCU",
        "outputId": "d426845b-ff1d-487f-c34a-92c8190bc7ac"
      },
      "execution_count": 67,
      "outputs": [
        {
          "output_type": "stream",
          "name": "stdout",
          "text": [
            "tf.Tensor(\n",
            "[b\"ROMEO:\\nNot become a trencher!\\n\\nRIVERS:\\nFor this once please to think it stin up shall run thine ears.\\n\\nRATCLIFF:\\nMake name of Corioli here!\\nHow will I recky ta'en,\\nNo man spark of ill night were Master\\nAntipomently in your own seit by Rome are smooth'd at Seelish;\\nFor she is quiet with the flight with cried,'\\nAnd cry 'O Clarence, my dear clifa, but your majesty\\nUpon a piecemorable curring king.\\nEarl thinks he do set me but weaponder:\\nGood Master cap you Doubly, and I can refute and leave:\\nAn on my light-time battage-so of it\\nUpon the shriding of you were sail, and run\\nAbout a pitched buriad bloody;\\nThe servingest believe note of rubaches will follow.\\nSow, you confess she.\\n\\nGRUMIO:\\nWhy, she craves a place, Runly 'twas in person.\\nThou boys have spoken; and loves them glory.\\n\\nAEdiling.\\n\\nDUKE VINCENTIO:\\nI will bet me like to it to night.\\n\\nCAPULET:\\nTush, I will be much up. Dut you cry:\\nFor nowning children are so contented: so, God save the\\nduke!\\n\\nCaptair:\\nWhat should it began?\\n\\nA Tome, come; yet\"\n",
            " b\"ROMEO:\\nIs it not, were you be upong your here?\\n\\nGLOUCESTER:\\nI will, sirrah, no, not look him I\\nam nothings, but that his guilty special fray.\\n\\nBUCKINGHAM:\\nWhat do I succeed? Warwick, Take in the foe,\\nAnd all the nurse that's marvel for Richmond,\\n'This rempity shows it for an act,\\nAs can by day to-morrow morning,\\nBut make them ne'er arms. For war, he doth appear\\nAs this shall I with reportain of your bodies--\\nweigh execute the king and drink their words:\\nWhy, were no more of yonder wit in the new chafe,\\nHave done me wrinkle, henceforward to him\\nThan it like one soon keeps in me true,\\nI was as sin: O wish the may bory isle, thus, comfort;\\nIf this new makes no tender thing imongry?\\n\\nAUFIDIUS:\\nWhy, masters of the point?\\n\\nDUKE VINCENTIO:\\nBut will you read on formating winter:\\nNow what is nothing grows that he hath stain'd,\\nWhich so depervent our loss and company\\nAnd charge thee, foul frost Biragars love,\\nWhich shall be while I should pretage it;\\nAnd that is nothing but were to give:\\nYour banish'd\"\n",
            " b\"ROMEO:\\nThey cannot temper-hence that hath from his golden cambroke\\nknever to bed, and, and my Lord Hastings, and you may entreat me face,\\nShe more to come to London with the cloudy than a case.\\n\\nKING RICHARD III:\\nA plague upon thick-favourch-natch, to levy-very little\\nNo wared for another's chamber.\\n\\nSAgoPS:\\nNo marvel, my lord: here comes it one.\\n\\nSICINIUS:\\nThat's son, as sweet as doth thee speak.\\n\\nBRUTUS:\\nRomeo,\\nAnd I am not quickly.\\n\\nPERDIAA:\\nThe all-hand, bid thee, man: your particular,\\nA holy acciped, and start him at all.\\n\\nDUCHESS OF YORK:\\nO my arims, lest fortune base them such a\\nnature, for consul?\\n\\nCORIOLANUS:\\nDidst thou tear-bid his sake:\\nAnd he't for shame, spake my lord, and svould at this fond\\nwounds: as follow me much conjurated to\\nincland against me; and for this remembran mouth\\nWherein you both are mean toigh'd:\\nNot are we skill it with this just again,\\nAnd deceive these fruitful Lewis doth:\\nI will remain a sire that are too fair.\\nThou and Lancaster less impute, replay'd\\nWith \"\n",
            " b\"ROMEO:\\nShe will not be: the hearing wounds have\\ndone and weapon, Camillo, bawdy something adone\\nThan your order his tongue be thy death:\\nHide the despites may burst the autiful day.\\n\\nTIONAE:\\nBut she's a movertale both my\\nFrominable: and that it may not speak aloud\\nTo such a short between us, 'tis wond;\\nAll monuments find at office, and do love in asleem;\\nBut with terrows that you love the debulish fool\\nThe measure of his face or how\\nThat he will speak to them as I. I will thee have the prisoner.\\n\\nROMEO:\\nFirst, alshy good cause.\\n\\nKING RICHARD III:\\nBut is the rage be weigh'd,\\nThat you shall sure the trial; thou seest we spake\\nAnd in one cause keeps you from another,\\nAhore my boy; within herself, hastely see them\\nhope whipped at it. I have provided fair and vow\\nDesiges to yourself: but it can thanks\\nIt benient to bear it in this case.\\n\\nDUCHESS OF YORK:\\nNo, marry; I say; for I am slibit\\nAnd danced for a mockors to utter;\\nAnd he that is not when he would be quite.\\nWhat with defire the time to com\"\n",
            " b\"ROMEO:\\nIs it not unknit it to the good he is\\nTo tell him o'clock that they live. Grief and host!\\n\\nDUKE VINCENTIO:\\nI thought of stretches with a redemory islue.\\nAway with him? Since I shall think,\\nWed me of much amazing themselves.\\nMarry, will I live and frown: and to the wench,\\nAnd for this virtue.\\n\\nAUTOLYCUS:\\nI am disgraced in quiet of your;\\nFor nothing shall prove a think o' the mark;\\nNo, noble Plactain lives to give their lives.\\n\\nKING RICHARD III:\\nWhy go in corse; littles heir and Dorsal him, which\\nThe heavens can continue this; if thou suit\\no' the table. Here, hills, mean to think!\\nCome, sirrah, perchance entercased\\nHis widddess and a pleasure; cheerly prized,\\nContinue in the child of this prey, as answer\\nHenry together, and at the appetite,\\nThat in the base pursuivance?\\n\\nCLAUDIO:\\nEven so; it is more on a husband;\\nAnd what should you see a poison with these arms:\\nI'll tell you all things plained in the realm;\\nOn Rish we can foolish two deyperance\\nIs my depart's dumbly past all great\\nA bo\"], shape=(5,), dtype=string) \n",
            "\n",
            "________________________________________________________________________________\n",
            "\n",
            "Run time: 3.846620798110962\n"
          ]
        }
      ]
    },
    {
      "cell_type": "markdown",
      "source": [
        "Ekspor Model Generator"
      ],
      "metadata": {
        "id": "CwJ_caYoZSrn"
      }
    },
    {
      "cell_type": "markdown",
      "source": [
        "Model satu langkah ini dapat dengan mudah disimpan dan digunakan kembali, memungkinkan Anda menggunakannya di mana pun tf.saved_model diterima."
      ],
      "metadata": {
        "id": "CTN9cdj_ZUK6"
      }
    },
    {
      "cell_type": "code",
      "source": [
        "tf.saved_model.save(one_step_model, 'one_step')\n",
        "one_step_reloaded = tf.saved_model.load('one_step')"
      ],
      "metadata": {
        "colab": {
          "base_uri": "https://localhost:8080/"
        },
        "id": "ig09FayyZVQu",
        "outputId": "cbd01562-c0e8-4676-da76-b33f2e383e74"
      },
      "execution_count": 68,
      "outputs": [
        {
          "output_type": "stream",
          "name": "stderr",
          "text": [
            "WARNING:tensorflow:Skipping full serialization of Keras layer <__main__.OneStep object at 0x7ae2fd128970>, because it is not built.\n",
            "WARNING:tensorflow:Model's `__init__()` arguments contain non-serializable objects. Please implement a `get_config()` method in the subclassed Model for proper saving and loading. Defaulting to empty config.\n",
            "WARNING:tensorflow:Model's `__init__()` arguments contain non-serializable objects. Please implement a `get_config()` method in the subclassed Model for proper saving and loading. Defaulting to empty config.\n"
          ]
        }
      ]
    },
    {
      "cell_type": "code",
      "source": [
        "states = None\n",
        "next_char = tf.constant(['ROMEO:'])\n",
        "result = [next_char]\n",
        "\n",
        "for n in range(100):\n",
        "  next_char, states = one_step_reloaded.generate_one_step(next_char, states=states)\n",
        "  result.append(next_char)\n",
        "\n",
        "print(tf.strings.join(result)[0].numpy().decode(\"utf-8\"))"
      ],
      "metadata": {
        "colab": {
          "base_uri": "https://localhost:8080/"
        },
        "id": "gR3waNTnZaq1",
        "outputId": "c6163b66-903b-429f-e82d-b8166769addd"
      },
      "execution_count": 69,
      "outputs": [
        {
          "output_type": "stream",
          "name": "stdout",
          "text": [
            "ROMEO:\n",
            "Do he directed, pullia live! treable oving,\n",
            "I'll burn to that Verona: speak it.\n",
            "\n",
            "DUKE VINCENTIO:\n",
            "Co\n"
          ]
        }
      ]
    }
  ],
  "metadata": {
    "colab": {
      "provenance": [],
      "gpuType": "T4",
      "include_colab_link": true
    },
    "kernelspec": {
      "display_name": "Python 3",
      "name": "python3"
    },
    "language_info": {
      "name": "python"
    },
    "accelerator": "GPU"
  },
  "nbformat": 4,
  "nbformat_minor": 0
}